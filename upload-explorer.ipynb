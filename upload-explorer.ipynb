{
 "cells": [
  {
   "cell_type": "code",
   "execution_count": 3,
   "metadata": {},
   "outputs": [],
   "source": [
    "import pandas as pd\n",
    "import csv\n",
    "import random"
   ]
  },
  {
   "cell_type": "code",
   "execution_count": 4,
   "metadata": {},
   "outputs": [
    {
     "data": {
      "text/plain": [
       "131072"
      ]
     },
     "execution_count": 4,
     "metadata": {},
     "output_type": "execute_result"
    }
   ],
   "source": [
    "csv.field_size_limit(10**6*10)"
   ]
  },
  {
   "cell_type": "code",
   "execution_count": 5,
   "metadata": {},
   "outputs": [],
   "source": [
    "# load a df from cleaned_normalized_df_no_grouping.pkl\n",
    "df = pd.read_pickle('cleaned_normalized_df_no_grouping.pkl')"
   ]
  },
  {
   "cell_type": "code",
   "execution_count": 6,
   "metadata": {},
   "outputs": [],
   "source": [
    "import json\n",
    "import requests\n",
    "import os\n",
    "from dotenv import load_dotenv\n",
    "\n",
    "load_dotenv()\n",
    "\n",
    "api_key = os.environ.get('API_KEY')\n",
    "api_url = os.environ.get('API_URL')\n",
    "url = api_url + '/index_document'\n",
    "\n",
    "class IndexDocumentRequest:\n",
    "    def __init__(self, doc_html, story_id, index):\n",
    "        self.doc_html = doc_html\n",
    "        self.story_id = story_id\n",
    "        self.index = index\n",
    "\n",
    "    def get_payload(self):\n",
    "        json_payload = {\n",
    "            'doc_html': self.doc_html,\n",
    "            'story_id': self.story_id,\n",
    "            'index': self.index\n",
    "        }\n",
    "        return json.dumps(json_payload)\n",
    "    \n",
    "    def send_post_request(self):\n",
    "        stringified_json_payload = self.get_payload()\n",
    "        headers = {\"Content-Type\": \"application/json\", \"Authorization\":api_key}\n",
    "        req_result = requests.post(url, data=stringified_json_payload, headers=headers)\n",
    "\n",
    "        if req_result.status_code != 200:\n",
    "            req_error = req_result.text\n",
    "            print(req_error)"
   ]
  },
  {
   "cell_type": "code",
   "execution_count": 12,
   "metadata": {},
   "outputs": [],
   "source": [
    "def create_random_chunks():\n",
    "    num_rows = df.shape[0]\n",
    "\n",
    "    # Randomly select 5 row indices\n",
    "    random_indice = random.sample(range(0, num_rows), 1)\n",
    "    random_range = []\n",
    "    for i in range(0, 5):\n",
    "        random_range.append(random_indice[0] + i)\n",
    "\n",
    "    # Sort the DataFrame based on the selected indices\n",
    "    sampled_rows = df.iloc[random_range]\n",
    "\n",
    "    # get the first 10 rows with a FictionId of 24\n",
    "    rows_24 = df.loc[df['FictionId'] == 24].head(10)\n",
    "\n",
    "    for index, row in rows_24.iterrows():\n",
    "        doc_html = row['content']\n",
    "        story_id = int(row['FictionId'])\n",
    "        index = int(row['Order'])\n",
    "        index_doc_request = IndexDocumentRequest(doc_html, story_id, index)\n",
    "        index_doc_request.send_post_request()"
   ]
  },
  {
   "cell_type": "code",
   "execution_count": 13,
   "metadata": {},
   "outputs": [
    {
     "name": "stdout",
     "output_type": "stream",
     "text": [
      "{\"message\":\"Empty Document\",\"error_code\":\"0026\"}\n",
      "{\"message\":\"Empty Document\",\"error_code\":\"0026\"}\n",
      "{\"message\":\"Empty Document\",\"error_code\":\"0026\"}\n",
      "{\"message\":\"Empty Document\",\"error_code\":\"0026\"}\n",
      "{\"message\":\"Empty Document\",\"error_code\":\"0026\"}\n",
      "{\"message\":\"Empty Document\",\"error_code\":\"0026\"}\n",
      "{\"message\":\"Empty Document\",\"error_code\":\"0026\"}\n",
      "{\"message\":\"Empty Document\",\"error_code\":\"0026\"}\n",
      "{\"message\":\"Empty Document\",\"error_code\":\"0026\"}\n",
      "{\"message\":\"Empty Document\",\"error_code\":\"0026\"}\n"
     ]
    }
   ],
   "source": [
    "for i in range(0, 10):\n",
    "    create_random_chunks()"
   ]
  },
  {
   "cell_type": "code",
   "execution_count": 16,
   "metadata": {},
   "outputs": [
    {
     "data": {
      "text/plain": [
       "CountResult(count=2)"
      ]
     },
     "execution_count": 16,
     "metadata": {},
     "output_type": "execute_result"
    }
   ],
   "source": [
    "from qdrant_client import QdrantClient\n",
    "\n",
    "client = QdrantClient(url=\"http://localhost:6333\", api_key=\"qdrant_pass\")\n",
    "\n",
    "client.count(collection_name=\"doc_group_5\")"
   ]
  }
 ],
 "metadata": {
  "kernelspec": {
   "display_name": "Python 3",
   "language": "python",
   "name": "python3"
  },
  "language_info": {
   "codemirror_mode": {
    "name": "ipython",
    "version": 3
   },
   "file_extension": ".py",
   "mimetype": "text/x-python",
   "name": "python",
   "nbconvert_exporter": "python",
   "pygments_lexer": "ipython3",
   "version": "3.10.12"
  },
  "orig_nbformat": 4
 },
 "nbformat": 4,
 "nbformat_minor": 2
}
