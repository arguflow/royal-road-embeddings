{
 "cells": [
  {
   "cell_type": "code",
   "execution_count": 1,
   "metadata": {},
   "outputs": [],
   "source": [
    "import pandas as pd\n",
    "import csv\n",
    "import random"
   ]
  },
  {
   "cell_type": "code",
   "execution_count": 2,
   "metadata": {},
   "outputs": [
    {
     "data": {
      "text/plain": [
       "131072"
      ]
     },
     "execution_count": 2,
     "metadata": {},
     "output_type": "execute_result"
    }
   ],
   "source": [
    "csv.field_size_limit(10**6*10)"
   ]
  },
  {
   "cell_type": "code",
   "execution_count": 3,
   "metadata": {},
   "outputs": [],
   "source": [
    "# load a df from cleaned_normalized_df_no_grouping.pkl\n",
    "df = pd.read_pickle('cleaned_normalized_df_no_grouping.pkl')"
   ]
  },
  {
   "cell_type": "code",
   "execution_count": 5,
   "metadata": {},
   "outputs": [
    {
     "data": {
      "text/html": [
       "<div>\n",
       "<style scoped>\n",
       "    .dataframe tbody tr th:only-of-type {\n",
       "        vertical-align: middle;\n",
       "    }\n",
       "\n",
       "    .dataframe tbody tr th {\n",
       "        vertical-align: top;\n",
       "    }\n",
       "\n",
       "    .dataframe thead th {\n",
       "        text-align: right;\n",
       "    }\n",
       "</style>\n",
       "<table border=\"1\" class=\"dataframe\">\n",
       "  <thead>\n",
       "    <tr style=\"text-align: right;\">\n",
       "      <th></th>\n",
       "      <th>FictionId</th>\n",
       "      <th>ChapterId</th>\n",
       "      <th>content</th>\n",
       "      <th>Order</th>\n",
       "    </tr>\n",
       "  </thead>\n",
       "  <tbody>\n",
       "    <tr>\n",
       "      <th>0</th>\n",
       "      <td>24</td>\n",
       "      <td>365929.0</td>\n",
       "      <td>&lt;p&gt;Lorem ipsum dolor sit amet, consectetur adi...</td>\n",
       "      <td>1.0</td>\n",
       "    </tr>\n",
       "    <tr>\n",
       "      <th>1</th>\n",
       "      <td>24</td>\n",
       "      <td>371170.0</td>\n",
       "      <td>&lt;div&gt;\\n&lt;p&gt;&lt;strong&gt;Lorem Ipsum&lt;/strong&gt; is simp...</td>\n",
       "      <td>3.0</td>\n",
       "    </tr>\n",
       "    <tr>\n",
       "      <th>2</th>\n",
       "      <td>24</td>\n",
       "      <td>385417.0</td>\n",
       "      <td>&lt;p&gt;Go away. Let me test stuff in peace!&lt;/p&gt;\\n&lt;...</td>\n",
       "      <td>2.0</td>\n",
       "    </tr>\n",
       "    <tr>\n",
       "      <th>3</th>\n",
       "      <td>24</td>\n",
       "      <td>485769.0</td>\n",
       "      <td>&lt;table style=\"border-collapse: collapse; width...</td>\n",
       "      <td>4.0</td>\n",
       "    </tr>\n",
       "    <tr>\n",
       "      <th>4</th>\n",
       "      <td>24</td>\n",
       "      <td>485990.0</td>\n",
       "      <td>&lt;p&gt;Nullam quis ante. Donec vitae orci sed dolo...</td>\n",
       "      <td>5.0</td>\n",
       "    </tr>\n",
       "    <tr>\n",
       "      <th>...</th>\n",
       "      <td>...</td>\n",
       "      <td>...</td>\n",
       "      <td>...</td>\n",
       "      <td>...</td>\n",
       "    </tr>\n",
       "    <tr>\n",
       "      <th>1243341</th>\n",
       "      <td>9997</td>\n",
       "      <td>112254.0</td>\n",
       "      <td>&lt;p&gt;Have you ever wonder, what would an apocaly...</td>\n",
       "      <td>1.0</td>\n",
       "    </tr>\n",
       "    <tr>\n",
       "      <th>1243342</th>\n",
       "      <td>9997</td>\n",
       "      <td>113818.0</td>\n",
       "      <td>&lt;p&gt;In a space full of nothingness, where there...</td>\n",
       "      <td>2.0</td>\n",
       "    </tr>\n",
       "    <tr>\n",
       "      <th>1243343</th>\n",
       "      <td>9997</td>\n",
       "      <td>115147.0</td>\n",
       "      <td>&lt;p&gt;Calm, almost tranquil atmosphere. That is V...</td>\n",
       "      <td>3.0</td>\n",
       "    </tr>\n",
       "    <tr>\n",
       "      <th>1243344</th>\n",
       "      <td>9998</td>\n",
       "      <td>112255.0</td>\n",
       "      <td>&lt;p&gt;“It has been a long time since one of your ...</td>\n",
       "      <td>1.0</td>\n",
       "    </tr>\n",
       "    <tr>\n",
       "      <th>1243345</th>\n",
       "      <td>9999</td>\n",
       "      <td>112256.0</td>\n",
       "      <td>&lt;p&gt;&lt;span style=\"font-size: 1.1em\"&gt;In a world &amp;...</td>\n",
       "      <td>1.0</td>\n",
       "    </tr>\n",
       "  </tbody>\n",
       "</table>\n",
       "<p>1243346 rows × 4 columns</p>\n",
       "</div>"
      ],
      "text/plain": [
       "        FictionId  ChapterId  \\\n",
       "0              24   365929.0   \n",
       "1              24   371170.0   \n",
       "2              24   385417.0   \n",
       "3              24   485769.0   \n",
       "4              24   485990.0   \n",
       "...           ...        ...   \n",
       "1243341      9997   112254.0   \n",
       "1243342      9997   113818.0   \n",
       "1243343      9997   115147.0   \n",
       "1243344      9998   112255.0   \n",
       "1243345      9999   112256.0   \n",
       "\n",
       "                                                   content  Order  \n",
       "0        <p>Lorem ipsum dolor sit amet, consectetur adi...    1.0  \n",
       "1        <div>\\n<p><strong>Lorem Ipsum</strong> is simp...    3.0  \n",
       "2        <p>Go away. Let me test stuff in peace!</p>\\n<...    2.0  \n",
       "3        <table style=\"border-collapse: collapse; width...    4.0  \n",
       "4        <p>Nullam quis ante. Donec vitae orci sed dolo...    5.0  \n",
       "...                                                    ...    ...  \n",
       "1243341  <p>Have you ever wonder, what would an apocaly...    1.0  \n",
       "1243342  <p>In a space full of nothingness, where there...    2.0  \n",
       "1243343  <p>Calm, almost tranquil atmosphere. That is V...    3.0  \n",
       "1243344  <p>“It has been a long time since one of your ...    1.0  \n",
       "1243345  <p><span style=\"font-size: 1.1em\">In a world &...    1.0  \n",
       "\n",
       "[1243346 rows x 4 columns]"
      ]
     },
     "execution_count": 5,
     "metadata": {},
     "output_type": "execute_result"
    }
   ],
   "source": [
    "df"
   ]
  },
  {
   "cell_type": "code",
   "execution_count": 6,
   "metadata": {},
   "outputs": [
    {
     "data": {
      "text/plain": [
       "1243346"
      ]
     },
     "execution_count": 6,
     "metadata": {},
     "output_type": "execute_result"
    }
   ],
   "source": [
    "len(df)"
   ]
  },
  {
   "cell_type": "code",
   "execution_count": 7,
   "metadata": {},
   "outputs": [
    {
     "data": {
      "text/plain": [
       "12.231991898148147"
      ]
     },
     "execution_count": 7,
     "metadata": {},
     "output_type": "execute_result"
    }
   ],
   "source": [
    "chapters = len(df)\n",
    "\n",
    "# .85/s per chapter\n",
    "seconds_to_upload = .85*chapters\n",
    "minutes_to_upload = seconds_to_upload/60\n",
    "hours_to_upload = minutes_to_upload/60\n",
    "days_to_upload = hours_to_upload/24\n",
    "\n",
    "days_to_upload"
   ]
  },
  {
   "cell_type": "code",
   "execution_count": 4,
   "metadata": {},
   "outputs": [
    {
     "name": "stdout",
     "output_type": "stream",
     "text": [
      "25\n"
     ]
    },
    {
     "data": {
      "text/plain": [
       "True"
      ]
     },
     "execution_count": 4,
     "metadata": {},
     "output_type": "execute_result"
    }
   ],
   "source": [
    "chunk_size = len(df) // 24\n",
    "chunks = [df.iloc[i:i + chunk_size] for i in range(0, len(df), chunk_size)]\n",
    "\n",
    "print(len(chunks))\n",
    "\n",
    "# check that the cumulative length of the chunks is the same as the length of the df\n",
    "sum([len(chunk) for chunk in chunks]) == len(df)"
   ]
  },
  {
   "cell_type": "code",
   "execution_count": null,
   "metadata": {},
   "outputs": [],
   "source": [
    "# save each chunk to disk as pickle\n",
    "for i, chunk in enumerate(chunks):\n",
    "    chunk.to_pickle(f'chunk_{i}.pkl')"
   ]
  },
  {
   "cell_type": "code",
   "execution_count": 26,
   "metadata": {},
   "outputs": [
    {
     "data": {
      "text/plain": [
       "True"
      ]
     },
     "execution_count": 26,
     "metadata": {},
     "output_type": "execute_result"
    },
    {
     "ename": "",
     "evalue": "",
     "output_type": "error",
     "traceback": [
      "\u001b[1;31mThe Kernel crashed while executing code in the the current cell or a previous cell. Please review the code in the cell(s) to identify a possible cause of the failure. Click <a href='https://aka.ms/vscodeJupyterKernelCrash'>here</a> for more info. View Jupyter <a href='command:jupyter.viewOutput'>log</a> for further details."
     ]
    }
   ],
   "source": [
    "num_rows = len(df)\n",
    "\n",
    "all_found = True\n",
    "# Randomly select 5 row indices\n",
    "random_indice = random.sample(range(0, num_rows), 1)\n",
    "random_range = []\n",
    "for i in range(0, 5):\n",
    "    random_range.append(random_indice[0] + i)\n",
    "\n",
    "# Sort the DataFrame based on the selected indices\n",
    "sampled_rows = df.iloc[random_range]\n",
    "\n",
    "\n",
    "for _, df_row in sampled_rows.iterrows():\n",
    "    found = False\n",
    "    for chunk in chunks:\n",
    "        for _, chunk_row in chunk.iterrows():\n",
    "            if df_row['FictionId'] == chunk_row['FictionId'] and df_row['ChapterId'] == chunk_row['ChapterId']:\n",
    "                found = True\n",
    "                break\n",
    "        if found:\n",
    "            break\n",
    "    \n",
    "    if not found:\n",
    "        all_found = False\n",
    "        break\n",
    "\n",
    "all_found\n"
   ]
  },
  {
   "cell_type": "code",
   "execution_count": null,
   "metadata": {},
   "outputs": [],
   "source": [
    "import json\n",
    "import requests\n",
    "import os\n",
    "from dotenv import load_dotenv\n",
    "\n",
    "load_dotenv()\n",
    "\n",
    "api_key = os.environ.get('API_KEY')\n",
    "api_url = os.environ.get('API_URL')\n",
    "url = api_url + '/index_document'\n",
    "\n",
    "class IndexDocumentRequest:\n",
    "    def __init__(self, doc_html, story_id, index):\n",
    "        self.doc_html = doc_html\n",
    "        self.story_id = story_id\n",
    "        self.index = index\n",
    "\n",
    "    def get_payload(self):\n",
    "        json_payload = {\n",
    "            'doc_html': self.doc_html,\n",
    "            'story_id': self.story_id,\n",
    "            'index': self.index\n",
    "        }\n",
    "        return json.dumps(json_payload)\n",
    "    \n",
    "    def send_post_request(self):\n",
    "        stringified_json_payload = self.get_payload()\n",
    "        headers = {\"Content-Type\": \"application/json\", \"Authorization\":api_key}\n",
    "        req_result = requests.post(url, data=stringified_json_payload, headers=headers)\n",
    "\n",
    "        if req_result.status_code != 200:\n",
    "            req_error = req_result.text\n",
    "            print(req_error)"
   ]
  },
  {
   "cell_type": "code",
   "execution_count": 12,
   "metadata": {},
   "outputs": [],
   "source": [
    "def create_random_chunks():\n",
    "    num_rows = df.shape[0]\n",
    "\n",
    "    # Randomly select 5 row indices\n",
    "    random_indice = random.sample(range(0, num_rows), 1)\n",
    "    random_range = []\n",
    "    for i in range(0, 5):\n",
    "        random_range.append(random_indice[0] + i)\n",
    "\n",
    "    # Sort the DataFrame based on the selected indices\n",
    "    sampled_rows = df.iloc[random_range]\n",
    "\n",
    "    # get the first 10 rows with a FictionId of 24\n",
    "    rows_24 = df.loc[df['FictionId'] == 24].head(10)\n",
    "\n",
    "    for index, row in rows_24.iterrows():\n",
    "        doc_html = row['content']\n",
    "        story_id = int(row['FictionId'])\n",
    "        index = int(row['Order'])\n",
    "        index_doc_request = IndexDocumentRequest(doc_html, story_id, index)\n",
    "        index_doc_request.send_post_request()"
   ]
  },
  {
   "cell_type": "code",
   "execution_count": 13,
   "metadata": {},
   "outputs": [
    {
     "name": "stdout",
     "output_type": "stream",
     "text": [
      "{\"message\":\"Empty Document\",\"error_code\":\"0026\"}\n",
      "{\"message\":\"Empty Document\",\"error_code\":\"0026\"}\n",
      "{\"message\":\"Empty Document\",\"error_code\":\"0026\"}\n",
      "{\"message\":\"Empty Document\",\"error_code\":\"0026\"}\n",
      "{\"message\":\"Empty Document\",\"error_code\":\"0026\"}\n",
      "{\"message\":\"Empty Document\",\"error_code\":\"0026\"}\n",
      "{\"message\":\"Empty Document\",\"error_code\":\"0026\"}\n",
      "{\"message\":\"Empty Document\",\"error_code\":\"0026\"}\n",
      "{\"message\":\"Empty Document\",\"error_code\":\"0026\"}\n",
      "{\"message\":\"Empty Document\",\"error_code\":\"0026\"}\n"
     ]
    }
   ],
   "source": [
    "for i in range(0, 10):\n",
    "    create_random_chunks()"
   ]
  },
  {
   "cell_type": "code",
   "execution_count": 9,
   "metadata": {},
   "outputs": [
    {
     "data": {
      "text/plain": [
       "CountResult(count=2)"
      ]
     },
     "execution_count": 9,
     "metadata": {},
     "output_type": "execute_result"
    }
   ],
   "source": [
    "from qdrant_client import QdrantClient\n",
    "\n",
    "client = QdrantClient(url=\"http://localhost:6333\", api_key=\"qdrant_pass\")\n",
    "\n",
    "client.count(collection_name=\"doc_group_5\")"
   ]
  }
 ],
 "metadata": {
  "kernelspec": {
   "display_name": "Python 3",
   "language": "python",
   "name": "python3"
  },
  "language_info": {
   "codemirror_mode": {
    "name": "ipython",
    "version": 3
   },
   "file_extension": ".py",
   "mimetype": "text/x-python",
   "name": "python",
   "nbconvert_exporter": "python",
   "pygments_lexer": "ipython3",
   "version": "3.10.12"
  },
  "orig_nbformat": 4
 },
 "nbformat": 4,
 "nbformat_minor": 2
}
