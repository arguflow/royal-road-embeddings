{
 "cells": [
  {
   "cell_type": "code",
   "execution_count": 4,
   "metadata": {},
   "outputs": [],
   "source": [
    "import json\n",
    "import requests\n",
    "import os\n",
    "from dotenv import load_dotenv\n",
    "import pandas as pd\n",
    "load_dotenv()\n",
    "\n",
    "api_key = os.environ.get('API_KEY')\n",
    "api_url = os.environ.get('API_URL')\n",
    "url = api_url + '/index_document'\n",
    "\n",
    "class IndexDocumentRequest:\n",
    "    def __init__(self, doc_html, story_id, index):\n",
    "        self.doc_html = doc_html\n",
    "        self.story_id = story_id\n",
    "        self.index = index\n",
    "\n",
    "    def get_payload(self):\n",
    "        json_payload = {\n",
    "            'doc_html': self.doc_html,\n",
    "            'story_id': self.story_id,\n",
    "            'index': self.index\n",
    "        }\n",
    "        return json.dumps(json_payload)\n",
    "    \n",
    "    def send_post_request(self):\n",
    "        stringified_json_payload = self.get_payload()\n",
    "        headers = {\"Content-Type\": \"application/json\", \"Authorization\": api_key}\n",
    "        req_result = requests.post(url, data=stringified_json_payload, headers=headers)\n",
    "\n",
    "        if req_result.status_code != 200:\n",
    "            req_error = req_result.text\n",
    "            print(req_error)\n",
    "\n",
    "def process_chunk(chunk):\n",
    "    for index, row in chunk.iterrows():\n",
    "        doc_html = row['content']\n",
    "        story_id = int(row['FictionId'])\n",
    "        index = int(row['Order'])\n",
    "        index_doc_request = IndexDocumentRequest(doc_html, story_id, index)\n",
    "        index_doc_request.send_post_request()\n"
   ]
  },
  {
   "cell_type": "code",
   "execution_count": 5,
   "metadata": {},
   "outputs": [],
   "source": [
    "df = pd.read_pickle('cleaned_normalized_df_no_grouping_v2.pkl')"
   ]
  },
  {
   "cell_type": "code",
   "execution_count": 6,
   "metadata": {},
   "outputs": [
    {
     "name": "stdout",
     "output_type": "stream",
     "text": [
      "{\"message\":\"Empty Document\",\"error_code\":\"0026\"}\n"
     ]
    }
   ],
   "source": [
    "count = 0\n",
    "\n",
    "for index, row in df.iterrows():\n",
    "    doc_html = row['content']\n",
    "    story_id = int(row['FictionId'])\n",
    "    index = int(row['Order'])\n",
    "    index_doc_request = IndexDocumentRequest(doc_html, story_id, index)\n",
    "    index_doc_request.send_post_request()\n",
    "\n",
    "    count += 1\n",
    "    if count > 5:\n",
    "        break"
   ]
  }
 ],
 "metadata": {
  "kernelspec": {
   "display_name": "Python 3",
   "language": "python",
   "name": "python3"
  },
  "language_info": {
   "codemirror_mode": {
    "name": "ipython",
    "version": 3
   },
   "file_extension": ".py",
   "mimetype": "text/x-python",
   "name": "python",
   "nbconvert_exporter": "python",
   "pygments_lexer": "ipython3",
   "version": "3.10.12"
  },
  "orig_nbformat": 4
 },
 "nbformat": 4,
 "nbformat_minor": 2
}
