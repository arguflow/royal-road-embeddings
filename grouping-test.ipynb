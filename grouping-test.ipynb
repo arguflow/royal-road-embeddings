{
 "cells": [
  {
   "cell_type": "code",
   "execution_count": 3,
   "metadata": {},
   "outputs": [],
   "source": [
    "import requests\n",
    "import os\n",
    "from dotenv import load_dotenv\n",
    "import json\n",
    "\n",
    "load_dotenv()\n",
    "\n",
    "api_key = os.environ.get('API_KEY')\n",
    "api_url = os.environ.get('API_URL')\n",
    "url = api_url + '/document_group'"
   ]
  },
  {
   "cell_type": "code",
   "execution_count": 7,
   "metadata": {},
   "outputs": [
    {
     "name": "stdout",
     "output_type": "stream",
     "text": [
      "204\n"
     ]
    }
   ],
   "source": [
    "headers = {\n",
    "    'Authorization': api_key,\n",
    "    'Content-Type': 'application/json'\n",
    "}\n",
    "\n",
    "json_payload = {\n",
    "    \"doc_group_size\": 50,\n",
    "    \"story_id\": 11209,\n",
    "}\n",
    "stringified_payload = json.dumps(json_payload)\n",
    "\n",
    "response = requests.put(url, headers=headers, data=stringified_payload)\n",
    "\n",
    "if not response.ok:\n",
    "    print(response.text)\n",
    "else:\n",
    "    print(response.status_code)"
   ]
  }
 ],
 "metadata": {
  "kernelspec": {
   "display_name": "Python 3",
   "language": "python",
   "name": "python3"
  },
  "language_info": {
   "codemirror_mode": {
    "name": "ipython",
    "version": 3
   },
   "file_extension": ".py",
   "mimetype": "text/x-python",
   "name": "python",
   "nbconvert_exporter": "python",
   "pygments_lexer": "ipython3",
   "version": "3.10.12"
  },
  "orig_nbformat": 4
 },
 "nbformat": 4,
 "nbformat_minor": 2
}
