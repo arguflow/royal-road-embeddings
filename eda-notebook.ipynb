{
 "cells": [
  {
   "cell_type": "code",
   "execution_count": 2,
   "metadata": {},
   "outputs": [
    {
     "data": {
      "text/plain": [
       "131072"
      ]
     },
     "execution_count": 2,
     "metadata": {},
     "output_type": "execute_result"
    }
   ],
   "source": [
    "import pandas as pd\n",
    "import csv\n",
    "\n",
    "csv.field_size_limit(10**6*10)  # Set the limit to a higher value (e.g., 1 MB)"
   ]
  },
  {
   "cell_type": "code",
   "execution_count": 3,
   "metadata": {},
   "outputs": [
    {
     "name": "stderr",
     "output_type": "stream",
     "text": [
      "/tmp/ipykernel_18400/1960470459.py:1: DtypeWarning: Columns (0) have mixed types. Specify dtype option on import or set low_memory=False.\n",
      "  df = pd.read_csv('Chapters.csv', sep=',', engine='c')\n"
     ]
    }
   ],
   "source": [
    "df = pd.read_csv('Chapters.csv', sep=',', engine='c')"
   ]
  },
  {
   "cell_type": "code",
   "execution_count": 31,
   "metadata": {},
   "outputs": [
    {
     "name": "stdout",
     "output_type": "stream",
     "text": [
      "{\"chunks\": [\"Juni—The Jumper—Marteni loved her superpowers.  Were they powerful? No. Would she ever rise from the bottom tier of superhero shows–-the little league? Also, no.  However, as she soared from rooftop to rooftop with nothing but her powerful legs, none of that mattered. It couldn’t matter. The wind whipped through her hair, and her laughter ringing in her ears ensured that.  “Jun—Jumper. Can you hear me?”  The wireless headphones in her ear spat out the voice with perfect quality.\", \" A gift she’d gotten herself after her last heist of a diamond necklace from a rich, stuck-up socialite. Her grin widened as she heard Saul's voice.  “Loud and clear, minion!”  She could hear the grimace in his deep voice, with the Mediterranean accent she liked so much. Not that she’d tell him that. That would come, but it would be when she had her feet under her for good.  “Don’t call me that. Are you almost to the shop?”  “Two more rooftops to go. You have the van ready?\", \"”  Another leap, another brief moment of weightlessness as she soared over the pigeon shit and litter previous heroes and villains left behind. She landed once more with the softest thump, not even a jolt running up her legs. That was another thing she appreciated about her powers. Otherwise, she would have spent all her hauls on hospital bills.  Saul’s voice sounded out again. “Of course. Ready and waiting. No signs of capes. Think we should be good. Did you even start an Episode?\", \"”  “Nope!”  The exuberance in her voice couldn’t be mistaken for anything else. Juni loved her powers but hated the televised aspect of it. It was so rigid, so, so…formal! All she wanted was the freedom to run, jump, and, yes, commit acts of robbery against rich pricks.  Why did she have to make sure some dumb aliens got a good show on top of it?  Her mind wandered back to the first time she’d met her director. Producer? Showrunner? They weren’t clear.\", \" Ed had been nice. At first. Told her she could be the bad guy she’d always fantasized about being provided that she performed for them.  Keywords in all that being ‘at first.’ When it became clear she wouldn’t be anything major, they’d groused. Once they realized it was mostly because she didn’t care? They’d been downright antagonistic. Oh, they were never cruel or surly. Just unhelpful. Uncaring.\", \" A pitiful and quick costume scene. Barely any royalties. No talks out of episodes as some supers got. Then, of course, was her nemesis. Juni supposed they’d been chosen to annoy her and as a way to poke fun—a weak hero for a pathetic villain.  It was too bad that she found her nemesis so enjoyable.  With another thump, she landed on the roof of Franks Fantastic Finds. A middle-class jewelry shop designed to be affordable and classy, though it barely managed the second one. They’d picked it for one reason—the skylight.  “I’m in position,” She whispered after putting a hand to her earpiece.\", \" “You ready?”  “Good to go, Jumper,” Saul replied.  “On it. Then. Wish me luck.” His laugh sent a shiver up her spine. “Make sure you get something for me.”  Her stomach fluttered as she moved to stand on the skylight and shifted into a squat. After a deep breath, she started to think about heavy things. Weights.\", \" Buses. Pallets of bricks. Once that image was firmly in her mind, she jumped up and crashed through the skylight.  Alarms started before she’d even managed to hit the ground.  *** Noise blared all around her as she rose from her squat and looked around. No one was inside, which didn’t surprise her. Saul had called in a bomb threat earlier in the day, and everyone used that kind of thing as an excuse to take a sick day.  Alone with the goods, she moved, throwing herself through the air to land on the counters. The glass beneath her splintered and shattered. Every shard mysteriously managed to miss puncturing her skin.\", \"  She scooped up necklaces and rings with practiced motions, shoving them haphazardly in her pockets.  They were starting to bulge when a sound other than the siren assaulted her ears—a low buzzing.  “Oh, this is a good day,” Juni whispered, not bothering to turn around as she grabbed a small display shelf of earrings.  “Beware the drone of justice, evil-doer!”  The voice that shouted that out sounded breathless and vaguely panicked. It had a thick, Tokyexico accent that she knew after so many fights existed to hide a Scottish one. While she couldn’t hear it over the alarm, she could imagine the swishing of the green and yellow layered dress designed so carefully to look like a flower.  If only it didn’t clash with the black and yellow bodice of the outfit.  Episode Start: Honey Heist! “Hey, MG Twerk-a-lot.\", \"”  “That’s not my name, Jumper!”  A smirk graced Juni’s face at the petulant note in the hero's voice. She could easily imagine the annoyance in her enemy's bright green eyes.  “So, you're not going to waggle your butt in my face again?”  “That‘s my transf… no. No, we’re not doing this again. You can’t make me. You’re going to jail! Magical Girl Honeycomb has arrived at the hive!”  Dead silence permeated the shop; even the alarm mysteriously stopped functioning.\", \" Juni turned, not bothering to hide the look of sheer disgust on her face.  “You didn’t say that. Please. Please, tell me you didn’t say that.”  Magical Girl Honeycomb blushed. “My manager—”  “Is a moron, clearly. Come on, Combee. You can’t be serious? Even the kids must think that’s lame.”  “My… yeah, my sales aren’t great.\", \"”  Both looked toward the floating camera that was getting shots of the destroyed countertops. That should mean none of this was being recorded.  “Ok. Look,” Juni said. “I’m sorry. That was mean.”  Tears formed in Honeycomb’s eyes before she whipped them away. “No, no. Lets. Can we…?\", \" It’s been a long day. Can we just do this?” “Sure. Yeah. Sorry. Um. Hang on.”  With a cough to clear her throat that got the camera to refocus on her, she squatted low. “Well, excuse me, Magical Girl. But I think it’s time for me to leap clear of this mess.\", \"”  As Honeycomb brought out her small wand that looked like amber-colored glass, Juni jumped straight up and through the hole. Her landing turned into a roll, and within moments, she’d ran to the roof's edge. The sounds of bees followed her, and a quick look over her shoulder showed Honeycomb flying through the hole.  Juni sighed. This part she hated. It meant Saul would have to drive around more, and gas was expensive.  “You’ll never catch me, Honeycomb!”  “You can’t jump if you're stuck to the floor. Taste the fruits of the bees! Honeyray!\", \"”  A blast of yellow light shot towards her, and she jumped, backflipping as the ground where she stood took on a yellow-gold consistency. From previous experience, she knew that if any of it touched her, she would be stuck in place.  “Good try, but not fast enough.”  Her earpiece crackled as she dodged another ray blast. “Following with the van. Good luck, Jumper.”  The two battled it out over rooftops, down into alleyways, and weirdly enough, at one point on a jumping castle that she swore wasn’t there a minute ago. Beams and quips were thrown in equal measure. However, it eventually needed to end.  Juni felt bad leaving the struggling heroine trapped in a deflating bounce house as she fell in through the square hole cut into the top of the van.\", \" She really did. But it wasn’t enough to overcome the joy she got from the loot in her pockets.  “Good haul?” Saul asked. His perfect brown eyes stared into her soul, making her knees weak.  “Yes. Drive, minion!”  “Uh-huh.”  And with that, the episode was done, leaving her wondering what would happen next. \"]}\n"
     ]
    },
    {
     "data": {
      "text/plain": [
       "0"
      ]
     },
     "execution_count": 31,
     "metadata": {},
     "output_type": "execute_result"
    }
   ],
   "source": [
    "import subprocess\n",
    "\n",
    "max_row = len(df)\n",
    "random_row = df.sample(n=1)\n",
    "random_4th_column = random_row.iloc[0, 3]\n",
    "\n",
    "# Define the command to call the script with an argument\n",
    "command = [\"python\", \"parser_1.py\", random_4th_column]\n",
    "\n",
    "# Use subprocess to call the script\n",
    "subprocess.call(command)\n"
   ]
  }
 ],
 "metadata": {
  "kernelspec": {
   "display_name": "Python 3",
   "language": "python",
   "name": "python3"
  },
  "language_info": {
   "codemirror_mode": {
    "name": "ipython",
    "version": 3
   },
   "file_extension": ".py",
   "mimetype": "text/x-python",
   "name": "python",
   "nbconvert_exporter": "python",
   "pygments_lexer": "ipython3",
   "version": "3.10.12"
  },
  "orig_nbformat": 4
 },
 "nbformat": 4,
 "nbformat_minor": 2
}
