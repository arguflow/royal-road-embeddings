{
 "cells": [
  {
   "cell_type": "code",
   "execution_count": 11,
   "metadata": {},
   "outputs": [
    {
     "data": {
      "text/plain": [
       "10000000"
      ]
     },
     "execution_count": 11,
     "metadata": {},
     "output_type": "execute_result"
    }
   ],
   "source": [
    "import pandas as pd\n",
    "import csv\n",
    "import math\n",
    "\n",
    "csv.field_size_limit(10**6*10)  # Set the limit to a higher value (e.g., 1 MB)"
   ]
  },
  {
   "cell_type": "code",
   "execution_count": 3,
   "metadata": {},
   "outputs": [
    {
     "name": "stderr",
     "output_type": "stream",
     "text": [
      "/tmp/ipykernel_29817/1960470459.py:1: DtypeWarning: Columns (0) have mixed types. Specify dtype option on import or set low_memory=False.\n",
      "  df = pd.read_csv('Chapters.csv', sep=',', engine='c')\n"
     ]
    }
   ],
   "source": [
    "df = pd.read_csv('Chapters.csv', sep=',', engine='c')"
   ]
  },
  {
   "cell_type": "code",
   "execution_count": 19,
   "metadata": {},
   "outputs": [
    {
     "name": "stdout",
     "output_type": "stream",
     "text": [
      "{\"chunks\": [\"*Sir Carsin Forus*    Sir Carsin Forus pushed through the crowd that surrounded the mangled carriage.  He had heard that the summoning was a success, but as one of the two Knight Captains, no…  As the only remaining Knight Captain now that his colleague has sacrificed his life, he could not help but wonder if this Hero could possibly be worth it.  Barely any of the soldiers in the vanguard returned, a force twice the size of what remained in camp had been wiped out all for one man.  Carsin could only think of it as a waste when the front lines were already pressured so heavily.  In fact, as a Knight Captain of Francea and a servant of the Versi family, he knew that in many regards the line was broken in his kingdom.  Outside of the walled strongholds anyone who traveled without a strong convoy was asking for death.  Finally pushing to the front of the crowd his heart nearly stopped when he saw Lady Versi covered in blood and he rushed towards her.  “Milady!”  Carsin literally threw one of the surgeons attendants out of the way, demonstrating the sheer power of his enchanted plate armor as he ran towards his liege’s side.  “Why have you not been attended?”  Lady Almistraus was also covered in blood, but if she died he would not shed any tears.\", \"  It would likely be a boon to the Versi’s, if a small one since she was merely the fourth princess.  “Calm yourself Sir Forus,” His ladies voice was clear and steady.  “I am uninjured, this is not my blood.”  He let out the breath he hadn’t realized he had been holding as he ordered a squire to fetch the ladies attendants and prepare a bath.  Even in the midst of enemy territory the noble families could not let their appearances falter after all.  With Lady Versi, (and Lady Almistraus, even though he had hoped she was actually injured) being taken away by squires and servants to change their ruined clothes and be cleaned, he spared a glance for the so called “Hero” that the surgeon was working on.    Why is there wine here?  Sir Forus wondered, but did not question it much.  After all, a swig of alcohol could help reduce pain even if Sir Forus himself considered it to be something for the weaker willed.  As a Knight Captain he had sworn to abstain from drinking until he retired, even for medicinal purposes.\", \"  He had to be alert for any danger.  However, a quick glance at the Hero proved that he was unlikely to be any real danger, at least physically.  Although he was stunningly tall, nearly two meters (a little taller than six foot) he was thin, almost scrawny when compared to a trained knight.  The Hero’s black hair was incredibly well-kept, hinting that he was perhaps a member of the nobility as no peasant could afford the tools required for hair to be that smooth.  (when you consider the fact that the most basic three in one bath product would be considered a miracle in the medieval era.)  Another indication of status was his bright grey eyes, not nearly as dull as the common folks.  That said, even with the bit in his mouth, Sir Forus was mostly impressed by the variety and intensity of his swearing.  A Knight Captain was still a soldier, and he had to admit he had never heard such colorful descriptions before, he would have to remember a few of these.  As the surgeon finished and the Hero spit out the bit, Carsin approached the Hero to introduce himself. “Lord Hero, I-”  “Oh for fuck’s sake,” the Hero interrupted, still panting from the pain of the stitching.\", \"  “My name is Lucas, why the hell is everyone calling me hero?”  “My apologies, Lord Lucas.”  Carsin made a slight bow thinking that Lucas had to be from the nobility, as no one else would be so rude to a knight.  “I am Knight Captain Carsin Forus of the Kingdom of Francea, and I welcome your aid against the demonic hordes.”  Personally, Carsin did not put any real faith in a thousand year old magic ritual, but his duty was more important than his personal thoughts.  To his surprise, however, Lucas laughed.  “Those things I saw were demons, yes?  How precisely do you expect me to help you?”  Carsin shifted uncomfortably, unsure how to answer.  He chose his words carefully, “According to legend, the ritual has brought forth a Hero every thousand years who has given us power to fight the demons.\", \"  The power of the Gods and the knowledge of Magic are said to have been brought over by Heros from long ago.”  Lord Lucas just stared at him like he was crazy, then shook his head, appearing to try and clear his thoughts.    “Nevermind, forget I asked.  More importantly, what do I need to do for you to send me back?”  “Milord, that is impossible.”  Lucas’s glare was ferocious enough that even the battle hardened Knight Captain took a step back.  “What do you mean by impossible?”  “All the legends agree, once a Hero has been summoned there is no way for the Hero to return.  No matter how the Gods are prayed to, and no matter what magic is used, the Hero cannot return.”\"]}\n"
     ]
    },
    {
     "data": {
      "text/plain": [
       "0"
      ]
     },
     "execution_count": 19,
     "metadata": {},
     "output_type": "execute_result"
    }
   ],
   "source": [
    "import subprocess\n",
    "\n",
    "max_row = len(df)\n",
    "random_row = df.sample(n=1)\n",
    "random_4th_column = random_row.iloc[0, 3]\n",
    "\n",
    "# Define the command to call the script with an argument\n",
    "command = [\"python\", \"parser_1.py\", random_4th_column]\n",
    "\n",
    "# Use subprocess to call the script\n",
    "subprocess.call(command)\n"
   ]
  },
  {
   "cell_type": "code",
   "execution_count": 17,
   "metadata": {},
   "outputs": [
    {
     "name": "stdout",
     "output_type": "stream",
     "text": [
      "0\n",
      "2\n",
      "0\n"
     ]
    }
   ],
   "source": [
    "remainder = 60 % 20\n",
    "group_count = 50 // 20\n",
    "remainder_per_group = 1 if remainder < group_count and remainder != 0 else math.ceil(remainder / group_count)\n",
    "\n",
    "print(remainder_per_group)\n",
    "print(group_count)\n",
    "print(remainder)"
   ]
  }
 ],
 "metadata": {
  "kernelspec": {
   "display_name": "Python 3",
   "language": "python",
   "name": "python3"
  },
  "language_info": {
   "codemirror_mode": {
    "name": "ipython",
    "version": 3
   },
   "file_extension": ".py",
   "mimetype": "text/x-python",
   "name": "python",
   "nbconvert_exporter": "python",
   "pygments_lexer": "ipython3",
   "version": "3.10.12"
  },
  "orig_nbformat": 4
 },
 "nbformat": 4,
 "nbformat_minor": 2
}
