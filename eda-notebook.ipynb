{
 "cells": [
  {
   "cell_type": "code",
   "execution_count": 1,
   "metadata": {},
   "outputs": [
    {
     "data": {
      "text/plain": [
       "131072"
      ]
     },
     "execution_count": 1,
     "metadata": {},
     "output_type": "execute_result"
    }
   ],
   "source": [
    "import pandas as pd\n",
    "import csv\n",
    "import math\n",
    "import clevercsv\n",
    "\n",
    "csv.field_size_limit(10**6*10)  # Set the limit to a higher value (e.g., 1 MB)"
   ]
  },
  {
   "cell_type": "code",
   "execution_count": 2,
   "metadata": {},
   "outputs": [
    {
     "name": "stderr",
     "output_type": "stream",
     "text": [
      "/home/skeptrune/.local/lib/python3.10/site-packages/clevercsv/wrappers.py:346: DtypeWarning: Columns (0) have mixed types. Specify dtype option on import or set low_memory=False.\n",
      "  df = pd.read_csv(filename, *args, dialect=csv_dialect, **kwargs)\n"
     ]
    }
   ],
   "source": [
    "df = clevercsv.read_dataframe('./Chapters.csv', num_chars=1000000)"
   ]
  },
  {
   "cell_type": "code",
   "execution_count": 19,
   "metadata": {},
   "outputs": [
    {
     "name": "stdout",
     "output_type": "stream",
     "text": [
      "{\"chunks\": [\"*Sir Carsin Forus*    Sir Carsin Forus pushed through the crowd that surrounded the mangled carriage.  He had heard that the summoning was a success, but as one of the two Knight Captains, no…  As the only remaining Knight Captain now that his colleague has sacrificed his life, he could not help but wonder if this Hero could possibly be worth it.  Barely any of the soldiers in the vanguard returned, a force twice the size of what remained in camp had been wiped out all for one man.  Carsin could only think of it as a waste when the front lines were already pressured so heavily.  In fact, as a Knight Captain of Francea and a servant of the Versi family, he knew that in many regards the line was broken in his kingdom.  Outside of the walled strongholds anyone who traveled without a strong convoy was asking for death.  Finally pushing to the front of the crowd his heart nearly stopped when he saw Lady Versi covered in blood and he rushed towards her.  “Milady!”  Carsin literally threw one of the surgeons attendants out of the way, demonstrating the sheer power of his enchanted plate armor as he ran towards his liege’s side.  “Why have you not been attended?”  Lady Almistraus was also covered in blood, but if she died he would not shed any tears.\", \"  It would likely be a boon to the Versi’s, if a small one since she was merely the fourth princess.  “Calm yourself Sir Forus,” His ladies voice was clear and steady.  “I am uninjured, this is not my blood.”  He let out the breath he hadn’t realized he had been holding as he ordered a squire to fetch the ladies attendants and prepare a bath.  Even in the midst of enemy territory the noble families could not let their appearances falter after all.  With Lady Versi, (and Lady Almistraus, even though he had hoped she was actually injured) being taken away by squires and servants to change their ruined clothes and be cleaned, he spared a glance for the so called “Hero” that the surgeon was working on.    Why is there wine here?  Sir Forus wondered, but did not question it much.  After all, a swig of alcohol could help reduce pain even if Sir Forus himself considered it to be something for the weaker willed.  As a Knight Captain he had sworn to abstain from drinking until he retired, even for medicinal purposes.\", \"  He had to be alert for any danger.  However, a quick glance at the Hero proved that he was unlikely to be any real danger, at least physically.  Although he was stunningly tall, nearly two meters (a little taller than six foot) he was thin, almost scrawny when compared to a trained knight.  The Hero’s black hair was incredibly well-kept, hinting that he was perhaps a member of the nobility as no peasant could afford the tools required for hair to be that smooth.  (when you consider the fact that the most basic three in one bath product would be considered a miracle in the medieval era.)  Another indication of status was his bright grey eyes, not nearly as dull as the common folks.  That said, even with the bit in his mouth, Sir Forus was mostly impressed by the variety and intensity of his swearing.  A Knight Captain was still a soldier, and he had to admit he had never heard such colorful descriptions before, he would have to remember a few of these.  As the surgeon finished and the Hero spit out the bit, Carsin approached the Hero to introduce himself. “Lord Hero, I-”  “Oh for fuck’s sake,” the Hero interrupted, still panting from the pain of the stitching.\", \"  “My name is Lucas, why the hell is everyone calling me hero?”  “My apologies, Lord Lucas.”  Carsin made a slight bow thinking that Lucas had to be from the nobility, as no one else would be so rude to a knight.  “I am Knight Captain Carsin Forus of the Kingdom of Francea, and I welcome your aid against the demonic hordes.”  Personally, Carsin did not put any real faith in a thousand year old magic ritual, but his duty was more important than his personal thoughts.  To his surprise, however, Lucas laughed.  “Those things I saw were demons, yes?  How precisely do you expect me to help you?”  Carsin shifted uncomfortably, unsure how to answer.  He chose his words carefully, “According to legend, the ritual has brought forth a Hero every thousand years who has given us power to fight the demons.\", \"  The power of the Gods and the knowledge of Magic are said to have been brought over by Heros from long ago.”  Lord Lucas just stared at him like he was crazy, then shook his head, appearing to try and clear his thoughts.    “Nevermind, forget I asked.  More importantly, what do I need to do for you to send me back?”  “Milord, that is impossible.”  Lucas’s glare was ferocious enough that even the battle hardened Knight Captain took a step back.  “What do you mean by impossible?”  “All the legends agree, once a Hero has been summoned there is no way for the Hero to return.  No matter how the Gods are prayed to, and no matter what magic is used, the Hero cannot return.”\"]}\n"
     ]
    },
    {
     "data": {
      "text/plain": [
       "0"
      ]
     },
     "execution_count": 19,
     "metadata": {},
     "output_type": "execute_result"
    }
   ],
   "source": [
    "import subprocess\n",
    "\n",
    "max_row = len(df)\n",
    "random_row = df.sample(n=1)\n",
    "random_4th_column = random_row.iloc[0, 3]\n",
    "\n",
    "# Define the command to call the script with an argument\n",
    "command = [\"python\", \"parser_1.py\", random_4th_column]\n",
    "\n",
    "# Use subprocess to call the script\n",
    "subprocess.call(command)\n"
   ]
  },
  {
   "cell_type": "code",
   "execution_count": 17,
   "metadata": {},
   "outputs": [
    {
     "name": "stdout",
     "output_type": "stream",
     "text": [
      "0\n",
      "2\n",
      "0\n"
     ]
    }
   ],
   "source": [
    "remainder = 60 % 20\n",
    "group_count = 50 // 20\n",
    "remainder_per_group = 1 if remainder < group_count and remainder != 0 else math.ceil(remainder / group_count)\n",
    "\n",
    "print(remainder_per_group)\n",
    "print(group_count)\n",
    "print(remainder)"
   ]
  },
  {
   "cell_type": "code",
   "execution_count": 26,
   "metadata": {},
   "outputs": [
    {
     "name": "stdout",
     "output_type": "stream",
     "text": [
      "[121409, 121410, 121411, 121412, 121413]\n",
      "       FictionId  ChapterId  \\\n",
      "121409     11206   127529.0   \n",
      "121410     11239   127530.0   \n",
      "121411     11225   127531.0   \n",
      "121412     10871   127532.0   \n",
      "121413     10845   127533.0   \n",
      "\n",
      "                                                  content         Order  \n",
      "121409  <p>I yawn loudly and stretch out my arms. That...  1.491106e+09  \n",
      "121410  <p><u>The First Domain.</u></p>\\n<p>It was a c...  1.491107e+09  \n",
      "121411  <p>So based on what Star has told me , I can n...  1.491107e+09  \n",
      "121412  <p>The Glenfort Plains was a large land mass l...  1.491108e+09  \n",
      "121413  <p>The lack of oxygen is trying to force me un...  1.491108e+09  \n"
     ]
    }
   ],
   "source": [
    "import random\n",
    "\n",
    "\n",
    "num_rows = df.shape[0]\n",
    "\n",
    "# Randomly select 5 row indices\n",
    "random_indice = random.sample(range(0, num_rows), 1)\n",
    "random_range = []\n",
    "for i in range(0, 5):\n",
    "    random_range.append(random_indice[0] + i)\n",
    "\n",
    "print(random_range)\n",
    "\n",
    "# Sort the DataFrame based on the selected indices\n",
    "sampled_rows = df.iloc[random_range]\n",
    "\n",
    "print(sampled_rows)"
   ]
  },
  {
   "cell_type": "code",
   "execution_count": 3,
   "metadata": {},
   "outputs": [],
   "source": [
    "grouped = df.groupby('FictionId')"
   ]
  },
  {
   "cell_type": "code",
   "execution_count": 4,
   "metadata": {},
   "outputs": [],
   "source": [
    "# Define a function to normalize timestamps within each group\n",
    "def normalize_and_sort(group):\n",
    "    if any(isinstance(val, float) for val in group['Order']):\n",
    "        group['Order'] = group['Order'].apply(lambda x: int(sorted([val for val in group['Order'] if not pd.isna(val)]).index(x) + 1) if pd.notna(x) else x)\n",
    "    return group\n",
    "\n",
    "# Apply the normalization and sorting function to each group\n",
    "normalized_df = grouped.apply(normalize_and_sort)"
   ]
  },
  {
   "cell_type": "code",
   "execution_count": 5,
   "metadata": {},
   "outputs": [
    {
     "ename": "NameError",
     "evalue": "name 'random' is not defined",
     "output_type": "error",
     "traceback": [
      "\u001b[0;31m---------------------------------------------------------------------------\u001b[0m",
      "\u001b[0;31mNameError\u001b[0m                                 Traceback (most recent call last)",
      "\u001b[1;32m/home/skeptrune/git_projects/arguflow/royal-road-embeddings/eda-notebook.ipynb Cell 8\u001b[0m line \u001b[0;36m4\n\u001b[1;32m      <a href='vscode-notebook-cell:/home/skeptrune/git_projects/arguflow/royal-road-embeddings/eda-notebook.ipynb#X10sZmlsZQ%3D%3D?line=0'>1</a>\u001b[0m num_rows \u001b[39m=\u001b[39m normalized_df\u001b[39m.\u001b[39mshape[\u001b[39m0\u001b[39m]\n\u001b[1;32m      <a href='vscode-notebook-cell:/home/skeptrune/git_projects/arguflow/royal-road-embeddings/eda-notebook.ipynb#X10sZmlsZQ%3D%3D?line=2'>3</a>\u001b[0m \u001b[39m# Randomly select 5 row indices\u001b[39;00m\n\u001b[0;32m----> <a href='vscode-notebook-cell:/home/skeptrune/git_projects/arguflow/royal-road-embeddings/eda-notebook.ipynb#X10sZmlsZQ%3D%3D?line=3'>4</a>\u001b[0m random_indice \u001b[39m=\u001b[39m random\u001b[39m.\u001b[39msample(\u001b[39mrange\u001b[39m(\u001b[39m0\u001b[39m, num_rows), \u001b[39m1\u001b[39m)\n\u001b[1;32m      <a href='vscode-notebook-cell:/home/skeptrune/git_projects/arguflow/royal-road-embeddings/eda-notebook.ipynb#X10sZmlsZQ%3D%3D?line=4'>5</a>\u001b[0m random_range \u001b[39m=\u001b[39m []\n\u001b[1;32m      <a href='vscode-notebook-cell:/home/skeptrune/git_projects/arguflow/royal-road-embeddings/eda-notebook.ipynb#X10sZmlsZQ%3D%3D?line=5'>6</a>\u001b[0m \u001b[39mfor\u001b[39;00m i \u001b[39min\u001b[39;00m \u001b[39mrange\u001b[39m(\u001b[39m0\u001b[39m, \u001b[39m25\u001b[39m):\n",
      "\u001b[0;31mNameError\u001b[0m: name 'random' is not defined"
     ]
    }
   ],
   "source": [
    "num_rows = normalized_df.shape[0]\n",
    "\n",
    "# Randomly select 5 row indices\n",
    "random_indice = random.sample(range(0, num_rows), 1)\n",
    "random_range = []\n",
    "for i in range(0, 25):\n",
    "    random_range.append(random_indice[0] + i)\n",
    "\n",
    "# Sort the DataFrame based on the selected indices\n",
    "sampled_rows = normalized_df.iloc[random_range]\n",
    "\n",
    "# print the FictionId and Order columns of the sampled rows\n",
    "print(sampled_rows[['FictionId', 'Order']])"
   ]
  },
  {
   "cell_type": "code",
   "execution_count": 6,
   "metadata": {},
   "outputs": [
    {
     "data": {
      "text/plain": [
       "0.007806066100190882"
      ]
     },
     "execution_count": 6,
     "metadata": {},
     "output_type": "execute_result"
    }
   ],
   "source": [
    "normalized_df.isna().any(axis=1).sum() / normalized_df.shape[0]"
   ]
  },
  {
   "cell_type": "code",
   "execution_count": 5,
   "metadata": {},
   "outputs": [],
   "source": [
    "cleaned_normalized_df = normalized_df.dropna()"
   ]
  },
  {
   "cell_type": "code",
   "execution_count": 6,
   "metadata": {},
   "outputs": [
    {
     "data": {
      "text/plain": [
       "0.0"
      ]
     },
     "execution_count": 6,
     "metadata": {},
     "output_type": "execute_result"
    }
   ],
   "source": [
    "cleaned_normalized_df.isna().any(axis=1).sum() / cleaned_normalized_df.shape[0]"
   ]
  },
  {
   "cell_type": "code",
   "execution_count": 8,
   "metadata": {},
   "outputs": [
    {
     "data": {
      "text/html": [
       "<div>\n",
       "<style scoped>\n",
       "    .dataframe tbody tr th:only-of-type {\n",
       "        vertical-align: middle;\n",
       "    }\n",
       "\n",
       "    .dataframe tbody tr th {\n",
       "        vertical-align: top;\n",
       "    }\n",
       "\n",
       "    .dataframe thead th {\n",
       "        text-align: right;\n",
       "    }\n",
       "</style>\n",
       "<table border=\"1\" class=\"dataframe\">\n",
       "  <thead>\n",
       "    <tr style=\"text-align: right;\">\n",
       "      <th></th>\n",
       "      <th>FictionId</th>\n",
       "      <th>ChapterId</th>\n",
       "      <th>content</th>\n",
       "      <th>Order</th>\n",
       "    </tr>\n",
       "  </thead>\n",
       "  <tbody>\n",
       "    <tr>\n",
       "      <th>0</th>\n",
       "      <td>24</td>\n",
       "      <td>365929.0</td>\n",
       "      <td>&lt;p&gt;Lorem ipsum dolor sit amet, consectetur adi...</td>\n",
       "      <td>1.0</td>\n",
       "    </tr>\n",
       "    <tr>\n",
       "      <th>1</th>\n",
       "      <td>24</td>\n",
       "      <td>371170.0</td>\n",
       "      <td>&lt;div&gt;\\n&lt;p&gt;&lt;strong&gt;Lorem Ipsum&lt;/strong&gt; is simp...</td>\n",
       "      <td>3.0</td>\n",
       "    </tr>\n",
       "    <tr>\n",
       "      <th>2</th>\n",
       "      <td>24</td>\n",
       "      <td>385417.0</td>\n",
       "      <td>&lt;p&gt;Go away. Let me test stuff in peace!&lt;/p&gt;\\n&lt;...</td>\n",
       "      <td>2.0</td>\n",
       "    </tr>\n",
       "    <tr>\n",
       "      <th>3</th>\n",
       "      <td>24</td>\n",
       "      <td>485769.0</td>\n",
       "      <td>&lt;table style=\"border-collapse: collapse; width...</td>\n",
       "      <td>4.0</td>\n",
       "    </tr>\n",
       "    <tr>\n",
       "      <th>4</th>\n",
       "      <td>24</td>\n",
       "      <td>485990.0</td>\n",
       "      <td>&lt;p&gt;Nullam quis ante. Donec vitae orci sed dolo...</td>\n",
       "      <td>5.0</td>\n",
       "    </tr>\n",
       "    <tr>\n",
       "      <th>...</th>\n",
       "      <td>...</td>\n",
       "      <td>...</td>\n",
       "      <td>...</td>\n",
       "      <td>...</td>\n",
       "    </tr>\n",
       "    <tr>\n",
       "      <th>1243341</th>\n",
       "      <td>9997</td>\n",
       "      <td>112254.0</td>\n",
       "      <td>&lt;p&gt;Have you ever wonder, what would an apocaly...</td>\n",
       "      <td>1.0</td>\n",
       "    </tr>\n",
       "    <tr>\n",
       "      <th>1243342</th>\n",
       "      <td>9997</td>\n",
       "      <td>113818.0</td>\n",
       "      <td>&lt;p&gt;In a space full of nothingness, where there...</td>\n",
       "      <td>2.0</td>\n",
       "    </tr>\n",
       "    <tr>\n",
       "      <th>1243343</th>\n",
       "      <td>9997</td>\n",
       "      <td>115147.0</td>\n",
       "      <td>&lt;p&gt;Calm, almost tranquil atmosphere. That is V...</td>\n",
       "      <td>3.0</td>\n",
       "    </tr>\n",
       "    <tr>\n",
       "      <th>1243344</th>\n",
       "      <td>9998</td>\n",
       "      <td>112255.0</td>\n",
       "      <td>&lt;p&gt;“It has been a long time since one of your ...</td>\n",
       "      <td>1.0</td>\n",
       "    </tr>\n",
       "    <tr>\n",
       "      <th>1243345</th>\n",
       "      <td>9999</td>\n",
       "      <td>112256.0</td>\n",
       "      <td>&lt;p&gt;&lt;span style=\"font-size: 1.1em\"&gt;In a world &amp;...</td>\n",
       "      <td>1.0</td>\n",
       "    </tr>\n",
       "  </tbody>\n",
       "</table>\n",
       "<p>1243346 rows × 4 columns</p>\n",
       "</div>"
      ],
      "text/plain": [
       "        FictionId  ChapterId  \\\n",
       "0              24   365929.0   \n",
       "1              24   371170.0   \n",
       "2              24   385417.0   \n",
       "3              24   485769.0   \n",
       "4              24   485990.0   \n",
       "...           ...        ...   \n",
       "1243341      9997   112254.0   \n",
       "1243342      9997   113818.0   \n",
       "1243343      9997   115147.0   \n",
       "1243344      9998   112255.0   \n",
       "1243345      9999   112256.0   \n",
       "\n",
       "                                                   content  Order  \n",
       "0        <p>Lorem ipsum dolor sit amet, consectetur adi...    1.0  \n",
       "1        <div>\\n<p><strong>Lorem Ipsum</strong> is simp...    3.0  \n",
       "2        <p>Go away. Let me test stuff in peace!</p>\\n<...    2.0  \n",
       "3        <table style=\"border-collapse: collapse; width...    4.0  \n",
       "4        <p>Nullam quis ante. Donec vitae orci sed dolo...    5.0  \n",
       "...                                                    ...    ...  \n",
       "1243341  <p>Have you ever wonder, what would an apocaly...    1.0  \n",
       "1243342  <p>In a space full of nothingness, where there...    2.0  \n",
       "1243343  <p>Calm, almost tranquil atmosphere. That is V...    3.0  \n",
       "1243344  <p>“It has been a long time since one of your ...    1.0  \n",
       "1243345  <p><span style=\"font-size: 1.1em\">In a world &...    1.0  \n",
       "\n",
       "[1243346 rows x 4 columns]"
      ]
     },
     "execution_count": 8,
     "metadata": {},
     "output_type": "execute_result"
    }
   ],
   "source": [
    "# make a new dataframe without the index column\n",
    "cleaned_normalized_df_no_grouping = cleaned_normalized_df.reset_index(drop=True)\n",
    "\n",
    "cleaned_normalized_df_no_grouping"
   ]
  },
  {
   "cell_type": "code",
   "execution_count": 9,
   "metadata": {},
   "outputs": [],
   "source": [
    "cleaned_normalized_df_no_grouping.to_pickle('./cleaned_normalized_df_no_grouping.pkl')"
   ]
  }
 ],
 "metadata": {
  "kernelspec": {
   "display_name": "Python 3",
   "language": "python",
   "name": "python3"
  },
  "language_info": {
   "codemirror_mode": {
    "name": "ipython",
    "version": 3
   },
   "file_extension": ".py",
   "mimetype": "text/x-python",
   "name": "python",
   "nbconvert_exporter": "python",
   "pygments_lexer": "ipython3",
   "version": "3.10.12"
  },
  "orig_nbformat": 4
 },
 "nbformat": 4,
 "nbformat_minor": 2
}
