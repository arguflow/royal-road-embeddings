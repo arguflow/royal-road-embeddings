{
 "cells": [
  {
   "cell_type": "code",
   "execution_count": 1,
   "metadata": {},
   "outputs": [],
   "source": [
    "import requests\n",
    "import os\n",
    "from dotenv import load_dotenv\n",
    "import qdrant_client\n",
    "from qdrant_client.models import Filter, FieldCondition, Range, MatchValue\n",
    "import psycopg2\n",
    "import csv\n",
    "import pandas as pd"
   ]
  },
  {
   "cell_type": "code",
   "execution_count": 2,
   "metadata": {},
   "outputs": [],
   "source": [
    "load_dotenv()\n",
    "\n",
    "api_key = os.environ.get('API_KEY')\n",
    "api_url = os.environ.get('API_URL')\n",
    "qdrant_url = os.environ.get('PYTHON_QDRANT_URL')\n",
    "qdrant_api_key = os.environ.get('QDRANT_API_KEY')"
   ]
  },
  {
   "cell_type": "code",
   "execution_count": 3,
   "metadata": {},
   "outputs": [],
   "source": [
    "def send_search_request(query_str):\n",
    "    request_body = {\n",
    "        \"query\": query_str,\n",
    "        \"page\": 1\n",
    "    }\n",
    "\n",
    "    headers = {\"Content-Type\": \"application/json\", \"Authorization\": api_key}\n",
    "    response = requests.post(api_url + \"/search\", json=request_body, headers=headers)\n",
    "    return response.json()\n",
    "\n",
    "# results = send_search_request('Software engineer programmer starts to realize the magic system is akin to programming')\n",
    "# for result in results:\n",
    "#     index = result['DocEmbedding'][\"index\"]\n",
    "#     story_id = result['DocEmbedding'][\"story_id\"]\n",
    "#     link = f'https://www.royalroad.com/fiction/{story_id}'\n",
    "#     print(link, index)"
   ]
  },
  {
   "cell_type": "code",
   "execution_count": 4,
   "metadata": {},
   "outputs": [],
   "source": [
    "def send_search_request_document_group(query_str, group_size):\n",
    "    request_body = {\n",
    "        \"doc_group_size\": group_size,\n",
    "        \"query\": query_str,\n",
    "        \"page\": 1\n",
    "    }\n",
    "\n",
    "    headers = {\"Content-Type\": \"application/json\", \"Authorization\": api_key}\n",
    "    response = requests.post(api_url + \"/search\", json=request_body, headers=headers)\n",
    "    return response.json()"
   ]
  },
  {
   "cell_type": "code",
   "execution_count": 3,
   "metadata": {},
   "outputs": [],
   "source": [
    "def create_document_group(group_size):\n",
    "    request_body = {\n",
    "        \"doc_group_size\": group_size\n",
    "    }\n",
    "\n",
    "    headers = {\"Content-Type\": \"application/json\", \"Authorization\": api_key}\n",
    "    response = requests.post(api_url + \"/document_group\", json=request_body, headers=headers)\n",
    "    return response.status_code"
   ]
  },
  {
   "cell_type": "code",
   "execution_count": 4,
   "metadata": {},
   "outputs": [
    {
     "data": {
      "text/plain": [
       "204"
      ]
     },
     "execution_count": 4,
     "metadata": {},
     "output_type": "execute_result"
    }
   ],
   "source": [
    "# create_document_group(50)"
   ]
  },
  {
   "cell_type": "code",
   "execution_count": 7,
   "metadata": {},
   "outputs": [],
   "source": [
    "def index_document_group(story_id, group_size):\n",
    "    request_body = {\n",
    "        \"story_id\": story_id,\n",
    "        \"doc_group_size\": group_size\n",
    "    }\n",
    "\n",
    "    headers = {\"Content-Type\": \"application/json\", \"Authorization\": api_key}\n",
    "    response = requests.put(api_url + \"/document_group\", json=request_body, headers=headers)\n",
    "    return response.status_code"
   ]
  },
  {
   "cell_type": "code",
   "execution_count": 8,
   "metadata": {},
   "outputs": [
    {
     "data": {
      "text/plain": [
       "204"
      ]
     },
     "execution_count": 8,
     "metadata": {},
     "output_type": "execute_result"
    }
   ],
   "source": [
    "index_document_group(57018, 50)"
   ]
  },
  {
   "cell_type": "code",
   "execution_count": 38,
   "metadata": {},
   "outputs": [
    {
     "name": "stdout",
     "output_type": "stream",
     "text": [
      "https://www.royalroad.com/fiction/13143 0\n",
      "https://www.royalroad.com/fiction/26163 0\n",
      "https://www.royalroad.com/fiction/28995 0\n",
      "https://www.royalroad.com/fiction/24 0\n",
      "https://www.royalroad.com/fiction/20177 0\n",
      "https://www.royalroad.com/fiction/23074 0\n",
      "https://www.royalroad.com/fiction/16878 0\n"
     ]
    }
   ],
   "source": [
    "# results = send_search_request_document_group('Software engineer programmer starts to realize the magic system is akin to programming', 50)\n",
    "\n",
    "# for result in results:\n",
    "#     story_id = result['DocGroupEmbedding'][\"story_id\"]\n",
    "#     index = result['DocGroupEmbedding'][\"index\"]\n",
    "#     link = f'https://www.royalroad.com/fiction/{story_id}'\n",
    "#     print(link, index)"
   ]
  },
  {
   "cell_type": "code",
   "execution_count": 32,
   "metadata": {},
   "outputs": [
    {
     "name": "stdout",
     "output_type": "stream",
     "text": [
      "Data has been exported to distinct_story_ids.csv\n"
     ]
    }
   ],
   "source": [
    "# Replace with your PostgreSQL connection URL\n",
    "db_url = os.environ.get('DATABASE_URL')\n",
    "\n",
    "# SQL query to select the columns you want\n",
    "query = \"SELECT DISTINCT story_id FROM doc_embeddings\"\n",
    "\n",
    "# File path for the single CSV file\n",
    "output_file_path = \"distinct_story_ids.csv\"\n",
    "\n",
    "# Batch size\n",
    "batch_size = 10000\n",
    "\n",
    "# Establish a connection to the PostgreSQL database\n",
    "conn = psycopg2.connect(db_url)\n",
    "\n",
    "# Create a cursor\n",
    "cursor = conn.cursor()\n",
    "\n",
    "# Execute the query\n",
    "cursor.execute(query)\n",
    "\n",
    "# Open the CSV file for writing\n",
    "with open(output_file_path, 'w', newline='') as csv_file:\n",
    "    csv_writer = csv.writer(csv_file)\n",
    "\n",
    "    # Write header\n",
    "    csv_writer.writerow([\"story_id\"])\n",
    "\n",
    "    batch_number = 0\n",
    "    while True:\n",
    "        results = cursor.fetchmany(batch_size)\n",
    "        if not results:\n",
    "            break\n",
    "\n",
    "        # Write data for the current batch\n",
    "        csv_writer.writerows(results)\n",
    "\n",
    "        batch_number += 1\n",
    "\n",
    "# Close the cursor and the connection\n",
    "cursor.close()\n",
    "conn.close()\n",
    "\n",
    "print(f\"Data has been exported to {output_file_path}\")"
   ]
  },
  {
   "cell_type": "code",
   "execution_count": 54,
   "metadata": {},
   "outputs": [
    {
     "data": {
      "text/html": [
       "<div>\n",
       "<style scoped>\n",
       "    .dataframe tbody tr th:only-of-type {\n",
       "        vertical-align: middle;\n",
       "    }\n",
       "\n",
       "    .dataframe tbody tr th {\n",
       "        vertical-align: top;\n",
       "    }\n",
       "\n",
       "    .dataframe thead th {\n",
       "        text-align: right;\n",
       "    }\n",
       "</style>\n",
       "<table border=\"1\" class=\"dataframe\">\n",
       "  <thead>\n",
       "    <tr style=\"text-align: right;\">\n",
       "      <th></th>\n",
       "      <th>story_id</th>\n",
       "    </tr>\n",
       "  </thead>\n",
       "  <tbody>\n",
       "    <tr>\n",
       "      <th>0</th>\n",
       "      <td>44127</td>\n",
       "    </tr>\n",
       "    <tr>\n",
       "      <th>1</th>\n",
       "      <td>26264</td>\n",
       "    </tr>\n",
       "    <tr>\n",
       "      <th>2</th>\n",
       "      <td>37876</td>\n",
       "    </tr>\n",
       "    <tr>\n",
       "      <th>3</th>\n",
       "      <td>55864</td>\n",
       "    </tr>\n",
       "    <tr>\n",
       "      <th>4</th>\n",
       "      <td>56903</td>\n",
       "    </tr>\n",
       "    <tr>\n",
       "      <th>...</th>\n",
       "      <td>...</td>\n",
       "    </tr>\n",
       "    <tr>\n",
       "      <th>69807</th>\n",
       "      <td>67482</td>\n",
       "    </tr>\n",
       "    <tr>\n",
       "      <th>69808</th>\n",
       "      <td>74710</td>\n",
       "    </tr>\n",
       "    <tr>\n",
       "      <th>69809</th>\n",
       "      <td>63618</td>\n",
       "    </tr>\n",
       "    <tr>\n",
       "      <th>69810</th>\n",
       "      <td>46401</td>\n",
       "    </tr>\n",
       "    <tr>\n",
       "      <th>69811</th>\n",
       "      <td>71653</td>\n",
       "    </tr>\n",
       "  </tbody>\n",
       "</table>\n",
       "<p>69812 rows × 1 columns</p>\n",
       "</div>"
      ],
      "text/plain": [
       "       story_id\n",
       "0         44127\n",
       "1         26264\n",
       "2         37876\n",
       "3         55864\n",
       "4         56903\n",
       "...         ...\n",
       "69807     67482\n",
       "69808     74710\n",
       "69809     63618\n",
       "69810     46401\n",
       "69811     71653\n",
       "\n",
       "[69812 rows x 1 columns]"
      ]
     },
     "execution_count": 54,
     "metadata": {},
     "output_type": "execute_result"
    }
   ],
   "source": [
    "distinct_story_ids = pd.read_csv('distinct_story_ids.csv')\n",
    "distinct_story_ids"
   ]
  },
  {
   "cell_type": "code",
   "execution_count": 55,
   "metadata": {},
   "outputs": [],
   "source": [
    "import pandas as pd\n",
    "\n",
    "# Assuming you have a DataFrame named distinct_story_ids\n",
    "\n",
    "# Calculate the number of rows in each chunk\n",
    "chunk_size = len(distinct_story_ids) // 20\n",
    "\n",
    "# Create a list to store the 20 data chunks\n",
    "data_chunks = []\n",
    "\n",
    "# Split the DataFrame into 20 chunks\n",
    "for i in range(20):\n",
    "    if i < 19:\n",
    "        chunk = distinct_story_ids.iloc[i * chunk_size:(i + 1) * chunk_size]\n",
    "    else:\n",
    "        # For the last chunk, include any remaining rows\n",
    "        chunk = distinct_story_ids.iloc[i * chunk_size:]\n",
    "\n",
    "    data_chunks.append(chunk)\n",
    "\n",
    "# Now, data_chunks contains 20 DataFrames, each representing a chunk of the original DataFrame.\n"
   ]
  },
  {
   "cell_type": "code",
   "execution_count": 56,
   "metadata": {},
   "outputs": [
    {
     "name": "stdout",
     "output_type": "stream",
     "text": [
      "Data chunks saved to the directory: ./distinct_story_id_chunks\n"
     ]
    }
   ],
   "source": [
    "import os\n",
    "\n",
    "# Assuming you have already split the DataFrame into data_chunks as shown in the previous answer\n",
    "\n",
    "# Create a directory to save the chunks\n",
    "output_directory = \"./distinct_story_id_chunks\"\n",
    "os.makedirs(output_directory, exist_ok=True)\n",
    "\n",
    "# Save each chunk to a numbered CSV file\n",
    "for i, chunk in enumerate(data_chunks):\n",
    "    chunk.to_csv(os.path.join(output_directory, f\"chunk_{i + 1}.csv\"), index=False)\n",
    "\n",
    "print(\"Data chunks saved to the directory:\", output_directory)\n"
   ]
  },
  {
   "cell_type": "code",
   "execution_count": 3,
   "metadata": {},
   "outputs": [
    {
     "name": "stderr",
     "output_type": "stream",
     "text": [
      "/home/skeptrune/.local/lib/python3.10/site-packages/qdrant_client/qdrant_remote.py:115: UserWarning: Api key is used with unsecure connection.\n",
      "  warnings.warn(\"Api key is used with unsecure connection.\")\n"
     ]
    }
   ],
   "source": [
    "svd_client = qdrant_client.QdrantClient(url=qdrant_url, api_key=qdrant_api_key)"
   ]
  },
  {
   "cell_type": "code",
   "execution_count": 4,
   "metadata": {},
   "outputs": [
    {
     "data": {
      "text/plain": [
       "CountResult(count=1226222)"
      ]
     },
     "execution_count": 4,
     "metadata": {},
     "output_type": "execute_result"
    }
   ],
   "source": [
    "svd_client.count(collection_name=\"doc_embeddings\")"
   ]
  },
  {
   "cell_type": "code",
   "execution_count": 6,
   "metadata": {},
   "outputs": [
    {
     "data": {
      "text/plain": [
       "CountResult(count=11066)"
      ]
     },
     "execution_count": 6,
     "metadata": {},
     "output_type": "execute_result"
    }
   ],
   "source": [
    "svd_client.count(collection_name=\"doc_group_50\")"
   ]
  },
  {
   "cell_type": "code",
   "execution_count": 53,
   "metadata": {},
   "outputs": [
    {
     "name": "stdout",
     "output_type": "stream",
     "text": [
      "65863 2 1\n",
      "37974 87 86\n",
      "59073 4 0\n",
      "46910 2 0\n",
      "38334 2 1\n",
      "2952 1 0\n",
      "35528 3 1\n",
      "12165 2 0\n",
      "46889 14 0\n",
      "65771 46 36\n",
      "11152 14 8\n",
      "55205 2 0\n",
      "3311 38 0\n",
      "3495 6 0\n",
      "38832 22 7\n",
      "38284 3 2\n",
      "46804 26 24\n",
      "36082 1 0\n",
      "38111 374 373\n",
      "35473 9 6\n",
      "2865 2 1\n",
      "12311 21 0\n",
      "46896 221 0\n",
      "35412 10 6\n",
      "47007 1 0\n",
      "3543 2 0\n",
      "65855 7 5\n",
      "34399 2 0\n",
      "55216 55 0\n",
      "55059 8 0\n",
      "9297 1 0\n",
      "9298 9 0\n",
      "46878 6 0\n",
      "71563 13 0\n",
      "65797 5 4\n",
      "63875 2 0\n",
      "61989 1 0\n",
      "63825 6 0\n",
      "3587 85 2\n",
      "12194 1 0\n",
      "65830 54 40\n",
      "3084 7 0\n",
      "59054 2 0\n",
      "64036 75 21\n",
      "37840 15 14\n",
      "3468 43 0\n",
      "66400 102 21\n",
      "63853 2 0\n",
      "25747 1 0\n",
      "37500 8 7\n",
      "55308 87 0\n",
      "38264 4 2\n",
      "36344 8 2\n",
      "46325 29 21\n",
      "55038 65 0\n",
      "19762 1 0\n",
      "36081 2 0\n",
      "44795 12 10\n",
      "3031 10 0\n",
      "46979 2 0\n",
      "11709 14 3\n",
      "45569 35 0\n",
      "45551 5 0\n",
      "31490 2 0\n",
      "38837 8 1\n",
      "11652 6 1\n",
      "3112 6 0\n",
      "50779 1 0\n",
      "55120 27 0\n",
      "46387 154 123\n",
      "12024 378 5\n",
      "2977 2 0\n",
      "36059 1 0\n",
      "36312 3 2\n",
      "63831 4 0\n",
      "63932 12 0\n",
      "46270 31 20\n",
      "12318 47 0\n",
      "65057 1 0\n",
      "11661 8 4\n",
      "3420 9 0\n",
      "12303 1 0\n",
      "3304 4 0\n",
      "56255 36 0\n",
      "54931 1 0\n",
      "22689 41 3\n",
      "38827 25 7\n",
      "3312 1 0\n",
      "36014 1 0\n",
      "9326 5 0\n",
      "11206 23 4\n",
      "9295 5 0\n",
      "3443 4 0\n",
      "38853 2 0\n",
      "62028 1 0\n",
      "45070 70 69\n",
      "44725 25 8\n",
      "65068 1 0\n",
      "16540 3 0\n",
      "12310 5 0\n",
      "19743 16 0\n",
      "36193 70 0\n",
      "34373 8 0\n",
      "12182 2 0\n",
      "59086 1 0\n",
      "65799 13 12\n",
      "44727 9 4\n",
      "19732 8 0\n",
      "44810 68 63\n",
      "38315 1 0\n",
      "3496 10 0\n",
      "3381 1 0\n",
      "46422 26 19\n",
      "3265 20 0\n",
      "66479 6 0\n",
      "38336 3 1\n",
      "3278 1 0\n",
      "9324 7 0\n",
      "3123 1 0\n",
      "63953 1 0\n",
      "64027 31 11\n",
      "25719 1 0\n",
      "34398 48 0\n",
      "55201 19 0\n",
      "46389 15 11\n",
      "16508 3 0\n",
      "9333 5 0\n",
      "3423 4 0\n",
      "3060 14 0\n",
      "65765 119 92\n",
      "62042 5 0\n",
      "2895 2 0\n",
      "3004 1 0\n",
      "16512 1 0\n",
      "45555 21 0\n",
      "3408 8 0\n",
      "45556 1 0\n",
      "47040 2 0\n",
      "65726 62 61\n",
      "16532 4 0\n",
      "28686 1 0\n",
      "12143 2 0\n",
      "67927 4 0\n",
      "46949 1 0\n",
      "16506 1 0\n",
      "44734 2 0\n",
      "11861 37 12\n",
      "36128 8 0\n",
      "55021 2 0\n",
      "36332 15 7\n",
      "63884 1 0\n",
      "16548 35 4\n",
      "47024 89 0\n",
      "55155 14 0\n",
      "63880 34 0\n",
      "42822 6 0\n",
      "12201 4 0\n",
      "3288 7 0\n",
      "46828 4 3\n",
      "66564 50 0\n",
      "25773 14 0\n",
      "44786 6 4\n",
      "38287 13 10\n",
      "53330 8 0\n",
      "31495 1 0\n",
      "36168 16 0\n",
      "38847 34 14\n",
      "64067 36 33\n",
      "63870 1 0\n",
      "34406 18 0\n",
      "3214 6 0\n",
      "36152 1 0\n",
      "36289 47 8\n",
      "11198 28 0\n",
      "3292 2 0\n",
      "3520 6 0\n",
      "44761 136 40\n",
      "11176 1 0\n",
      "66508 8 0\n",
      "47041 110 0\n",
      "66488 31 0\n",
      "53314 5 0\n"
     ]
    },
    {
     "ename": "ResponseHandlingException",
     "evalue": "timed out",
     "output_type": "error",
     "traceback": [
      "\u001b[0;31m---------------------------------------------------------------------------\u001b[0m",
      "\u001b[0;31mTimeoutError\u001b[0m                              Traceback (most recent call last)",
      "File \u001b[0;32m~/.local/lib/python3.10/site-packages/httpcore/_exceptions.py:10\u001b[0m, in \u001b[0;36mmap_exceptions\u001b[0;34m(map)\u001b[0m\n\u001b[1;32m      9\u001b[0m \u001b[39mtry\u001b[39;00m:\n\u001b[0;32m---> 10\u001b[0m     \u001b[39myield\u001b[39;00m\n\u001b[1;32m     11\u001b[0m \u001b[39mexcept\u001b[39;00m \u001b[39mException\u001b[39;00m \u001b[39mas\u001b[39;00m exc:  \u001b[39m# noqa: PIE786\u001b[39;00m\n",
      "File \u001b[0;32m~/.local/lib/python3.10/site-packages/httpcore/_backends/sync.py:28\u001b[0m, in \u001b[0;36mSyncStream.read\u001b[0;34m(self, max_bytes, timeout)\u001b[0m\n\u001b[1;32m     27\u001b[0m \u001b[39mself\u001b[39m\u001b[39m.\u001b[39m_sock\u001b[39m.\u001b[39msettimeout(timeout)\n\u001b[0;32m---> 28\u001b[0m \u001b[39mreturn\u001b[39;00m \u001b[39mself\u001b[39;49m\u001b[39m.\u001b[39;49m_sock\u001b[39m.\u001b[39;49mrecv(max_bytes)\n",
      "\u001b[0;31mTimeoutError\u001b[0m: timed out",
      "\nThe above exception was the direct cause of the following exception:\n",
      "\u001b[0;31mReadTimeout\u001b[0m                               Traceback (most recent call last)",
      "File \u001b[0;32m~/.local/lib/python3.10/site-packages/httpx/_transports/default.py:60\u001b[0m, in \u001b[0;36mmap_httpcore_exceptions\u001b[0;34m()\u001b[0m\n\u001b[1;32m     59\u001b[0m \u001b[39mtry\u001b[39;00m:\n\u001b[0;32m---> 60\u001b[0m     \u001b[39myield\u001b[39;00m\n\u001b[1;32m     61\u001b[0m \u001b[39mexcept\u001b[39;00m \u001b[39mException\u001b[39;00m \u001b[39mas\u001b[39;00m exc:  \u001b[39m# noqa: PIE-786\u001b[39;00m\n",
      "File \u001b[0;32m~/.local/lib/python3.10/site-packages/httpx/_transports/default.py:218\u001b[0m, in \u001b[0;36mHTTPTransport.handle_request\u001b[0;34m(self, request)\u001b[0m\n\u001b[1;32m    217\u001b[0m \u001b[39mwith\u001b[39;00m map_httpcore_exceptions():\n\u001b[0;32m--> 218\u001b[0m     resp \u001b[39m=\u001b[39m \u001b[39mself\u001b[39;49m\u001b[39m.\u001b[39;49m_pool\u001b[39m.\u001b[39;49mhandle_request(req)\n\u001b[1;32m    220\u001b[0m \u001b[39massert\u001b[39;00m \u001b[39misinstance\u001b[39m(resp\u001b[39m.\u001b[39mstream, typing\u001b[39m.\u001b[39mIterable)\n",
      "File \u001b[0;32m~/.local/lib/python3.10/site-packages/httpcore/_sync/connection_pool.py:262\u001b[0m, in \u001b[0;36mConnectionPool.handle_request\u001b[0;34m(self, request)\u001b[0m\n\u001b[1;32m    261\u001b[0m         \u001b[39mself\u001b[39m\u001b[39m.\u001b[39mresponse_closed(status)\n\u001b[0;32m--> 262\u001b[0m     \u001b[39mraise\u001b[39;00m exc\n\u001b[1;32m    263\u001b[0m \u001b[39melse\u001b[39;00m:\n",
      "File \u001b[0;32m~/.local/lib/python3.10/site-packages/httpcore/_sync/connection_pool.py:245\u001b[0m, in \u001b[0;36mConnectionPool.handle_request\u001b[0;34m(self, request)\u001b[0m\n\u001b[1;32m    244\u001b[0m \u001b[39mtry\u001b[39;00m:\n\u001b[0;32m--> 245\u001b[0m     response \u001b[39m=\u001b[39m connection\u001b[39m.\u001b[39;49mhandle_request(request)\n\u001b[1;32m    246\u001b[0m \u001b[39mexcept\u001b[39;00m ConnectionNotAvailable:\n\u001b[1;32m    247\u001b[0m     \u001b[39m# The ConnectionNotAvailable exception is a special case, that\u001b[39;00m\n\u001b[1;32m    248\u001b[0m     \u001b[39m# indicates we need to retry the request on a new connection.\u001b[39;00m\n\u001b[0;32m   (...)\u001b[0m\n\u001b[1;32m    252\u001b[0m     \u001b[39m# might end up as an HTTP/2 connection, but which actually ends\u001b[39;00m\n\u001b[1;32m    253\u001b[0m     \u001b[39m# up as HTTP/1.1.\u001b[39;00m\n",
      "File \u001b[0;32m~/.local/lib/python3.10/site-packages/httpcore/_sync/connection.py:96\u001b[0m, in \u001b[0;36mHTTPConnection.handle_request\u001b[0;34m(self, request)\u001b[0m\n\u001b[1;32m     94\u001b[0m         \u001b[39mraise\u001b[39;00m ConnectionNotAvailable()\n\u001b[0;32m---> 96\u001b[0m \u001b[39mreturn\u001b[39;00m \u001b[39mself\u001b[39;49m\u001b[39m.\u001b[39;49m_connection\u001b[39m.\u001b[39;49mhandle_request(request)\n",
      "File \u001b[0;32m~/.local/lib/python3.10/site-packages/httpcore/_sync/http11.py:121\u001b[0m, in \u001b[0;36mHTTP11Connection.handle_request\u001b[0;34m(self, request)\u001b[0m\n\u001b[1;32m    120\u001b[0m         \u001b[39mself\u001b[39m\u001b[39m.\u001b[39m_response_closed()\n\u001b[0;32m--> 121\u001b[0m \u001b[39mraise\u001b[39;00m exc\n",
      "File \u001b[0;32m~/.local/lib/python3.10/site-packages/httpcore/_sync/http11.py:99\u001b[0m, in \u001b[0;36mHTTP11Connection.handle_request\u001b[0;34m(self, request)\u001b[0m\n\u001b[1;32m     91\u001b[0m \u001b[39mwith\u001b[39;00m Trace(\n\u001b[1;32m     92\u001b[0m     \u001b[39m\"\u001b[39m\u001b[39mreceive_response_headers\u001b[39m\u001b[39m\"\u001b[39m, logger, request, kwargs\n\u001b[1;32m     93\u001b[0m ) \u001b[39mas\u001b[39;00m trace:\n\u001b[1;32m     94\u001b[0m     (\n\u001b[1;32m     95\u001b[0m         http_version,\n\u001b[1;32m     96\u001b[0m         status,\n\u001b[1;32m     97\u001b[0m         reason_phrase,\n\u001b[1;32m     98\u001b[0m         headers,\n\u001b[0;32m---> 99\u001b[0m     ) \u001b[39m=\u001b[39m \u001b[39mself\u001b[39;49m\u001b[39m.\u001b[39;49m_receive_response_headers(\u001b[39m*\u001b[39;49m\u001b[39m*\u001b[39;49mkwargs)\n\u001b[1;32m    100\u001b[0m     trace\u001b[39m.\u001b[39mreturn_value \u001b[39m=\u001b[39m (\n\u001b[1;32m    101\u001b[0m         http_version,\n\u001b[1;32m    102\u001b[0m         status,\n\u001b[1;32m    103\u001b[0m         reason_phrase,\n\u001b[1;32m    104\u001b[0m         headers,\n\u001b[1;32m    105\u001b[0m     )\n",
      "File \u001b[0;32m~/.local/lib/python3.10/site-packages/httpcore/_sync/http11.py:164\u001b[0m, in \u001b[0;36mHTTP11Connection._receive_response_headers\u001b[0;34m(self, request)\u001b[0m\n\u001b[1;32m    163\u001b[0m \u001b[39mwhile\u001b[39;00m \u001b[39mTrue\u001b[39;00m:\n\u001b[0;32m--> 164\u001b[0m     event \u001b[39m=\u001b[39m \u001b[39mself\u001b[39;49m\u001b[39m.\u001b[39;49m_receive_event(timeout\u001b[39m=\u001b[39;49mtimeout)\n\u001b[1;32m    165\u001b[0m     \u001b[39mif\u001b[39;00m \u001b[39misinstance\u001b[39m(event, h11\u001b[39m.\u001b[39mResponse):\n",
      "File \u001b[0;32m~/.local/lib/python3.10/site-packages/httpcore/_sync/http11.py:200\u001b[0m, in \u001b[0;36mHTTP11Connection._receive_event\u001b[0;34m(self, timeout)\u001b[0m\n\u001b[1;32m    199\u001b[0m \u001b[39mif\u001b[39;00m event \u001b[39mis\u001b[39;00m h11\u001b[39m.\u001b[39mNEED_DATA:\n\u001b[0;32m--> 200\u001b[0m     data \u001b[39m=\u001b[39m \u001b[39mself\u001b[39;49m\u001b[39m.\u001b[39;49m_network_stream\u001b[39m.\u001b[39;49mread(\n\u001b[1;32m    201\u001b[0m         \u001b[39mself\u001b[39;49m\u001b[39m.\u001b[39;49mREAD_NUM_BYTES, timeout\u001b[39m=\u001b[39;49mtimeout\n\u001b[1;32m    202\u001b[0m     )\n\u001b[1;32m    204\u001b[0m     \u001b[39m# If we feed this case through h11 we'll raise an exception like:\u001b[39;00m\n\u001b[1;32m    205\u001b[0m     \u001b[39m#\u001b[39;00m\n\u001b[1;32m    206\u001b[0m     \u001b[39m#     httpcore.RemoteProtocolError: can't handle event type\u001b[39;00m\n\u001b[0;32m   (...)\u001b[0m\n\u001b[1;32m    210\u001b[0m     \u001b[39m# perspective. Instead we handle this case distinctly and treat\u001b[39;00m\n\u001b[1;32m    211\u001b[0m     \u001b[39m# it as a ConnectError.\u001b[39;00m\n",
      "File \u001b[0;32m~/.local/lib/python3.10/site-packages/httpcore/_backends/sync.py:26\u001b[0m, in \u001b[0;36mSyncStream.read\u001b[0;34m(self, max_bytes, timeout)\u001b[0m\n\u001b[1;32m     25\u001b[0m exc_map: ExceptionMapping \u001b[39m=\u001b[39m {socket\u001b[39m.\u001b[39mtimeout: ReadTimeout, \u001b[39mOSError\u001b[39;00m: ReadError}\n\u001b[0;32m---> 26\u001b[0m \u001b[39mwith\u001b[39;00m map_exceptions(exc_map):\n\u001b[1;32m     27\u001b[0m     \u001b[39mself\u001b[39m\u001b[39m.\u001b[39m_sock\u001b[39m.\u001b[39msettimeout(timeout)\n",
      "File \u001b[0;32m/usr/lib/python3.10/contextlib.py:153\u001b[0m, in \u001b[0;36m_GeneratorContextManager.__exit__\u001b[0;34m(self, typ, value, traceback)\u001b[0m\n\u001b[1;32m    152\u001b[0m \u001b[39mtry\u001b[39;00m:\n\u001b[0;32m--> 153\u001b[0m     \u001b[39mself\u001b[39;49m\u001b[39m.\u001b[39;49mgen\u001b[39m.\u001b[39;49mthrow(typ, value, traceback)\n\u001b[1;32m    154\u001b[0m \u001b[39mexcept\u001b[39;00m \u001b[39mStopIteration\u001b[39;00m \u001b[39mas\u001b[39;00m exc:\n\u001b[1;32m    155\u001b[0m     \u001b[39m# Suppress StopIteration *unless* it's the same exception that\u001b[39;00m\n\u001b[1;32m    156\u001b[0m     \u001b[39m# was passed to throw().  This prevents a StopIteration\u001b[39;00m\n\u001b[1;32m    157\u001b[0m     \u001b[39m# raised inside the \"with\" statement from being suppressed.\u001b[39;00m\n",
      "File \u001b[0;32m~/.local/lib/python3.10/site-packages/httpcore/_exceptions.py:14\u001b[0m, in \u001b[0;36mmap_exceptions\u001b[0;34m(map)\u001b[0m\n\u001b[1;32m     13\u001b[0m     \u001b[39mif\u001b[39;00m \u001b[39misinstance\u001b[39m(exc, from_exc):\n\u001b[0;32m---> 14\u001b[0m         \u001b[39mraise\u001b[39;00m to_exc(exc) \u001b[39mfrom\u001b[39;00m \u001b[39mexc\u001b[39;00m\n\u001b[1;32m     15\u001b[0m \u001b[39mraise\u001b[39;00m\n",
      "\u001b[0;31mReadTimeout\u001b[0m: timed out",
      "\nThe above exception was the direct cause of the following exception:\n",
      "\u001b[0;31mReadTimeout\u001b[0m                               Traceback (most recent call last)",
      "File \u001b[0;32m~/.local/lib/python3.10/site-packages/qdrant_client/http/api_client.py:101\u001b[0m, in \u001b[0;36mApiClient.send_inner\u001b[0;34m(self, request)\u001b[0m\n\u001b[1;32m    100\u001b[0m \u001b[39mtry\u001b[39;00m:\n\u001b[0;32m--> 101\u001b[0m     response \u001b[39m=\u001b[39m \u001b[39mself\u001b[39;49m\u001b[39m.\u001b[39;49m_client\u001b[39m.\u001b[39;49msend(request)\n\u001b[1;32m    102\u001b[0m \u001b[39mexcept\u001b[39;00m \u001b[39mException\u001b[39;00m \u001b[39mas\u001b[39;00m e:\n",
      "File \u001b[0;32m~/.local/lib/python3.10/site-packages/httpx/_client.py:901\u001b[0m, in \u001b[0;36mClient.send\u001b[0;34m(self, request, stream, auth, follow_redirects)\u001b[0m\n\u001b[1;32m    899\u001b[0m auth \u001b[39m=\u001b[39m \u001b[39mself\u001b[39m\u001b[39m.\u001b[39m_build_request_auth(request, auth)\n\u001b[0;32m--> 901\u001b[0m response \u001b[39m=\u001b[39m \u001b[39mself\u001b[39;49m\u001b[39m.\u001b[39;49m_send_handling_auth(\n\u001b[1;32m    902\u001b[0m     request,\n\u001b[1;32m    903\u001b[0m     auth\u001b[39m=\u001b[39;49mauth,\n\u001b[1;32m    904\u001b[0m     follow_redirects\u001b[39m=\u001b[39;49mfollow_redirects,\n\u001b[1;32m    905\u001b[0m     history\u001b[39m=\u001b[39;49m[],\n\u001b[1;32m    906\u001b[0m )\n\u001b[1;32m    907\u001b[0m \u001b[39mtry\u001b[39;00m:\n",
      "File \u001b[0;32m~/.local/lib/python3.10/site-packages/httpx/_client.py:929\u001b[0m, in \u001b[0;36mClient._send_handling_auth\u001b[0;34m(self, request, auth, follow_redirects, history)\u001b[0m\n\u001b[1;32m    928\u001b[0m \u001b[39mwhile\u001b[39;00m \u001b[39mTrue\u001b[39;00m:\n\u001b[0;32m--> 929\u001b[0m     response \u001b[39m=\u001b[39m \u001b[39mself\u001b[39;49m\u001b[39m.\u001b[39;49m_send_handling_redirects(\n\u001b[1;32m    930\u001b[0m         request,\n\u001b[1;32m    931\u001b[0m         follow_redirects\u001b[39m=\u001b[39;49mfollow_redirects,\n\u001b[1;32m    932\u001b[0m         history\u001b[39m=\u001b[39;49mhistory,\n\u001b[1;32m    933\u001b[0m     )\n\u001b[1;32m    934\u001b[0m     \u001b[39mtry\u001b[39;00m:\n",
      "File \u001b[0;32m~/.local/lib/python3.10/site-packages/httpx/_client.py:966\u001b[0m, in \u001b[0;36mClient._send_handling_redirects\u001b[0;34m(self, request, follow_redirects, history)\u001b[0m\n\u001b[1;32m    964\u001b[0m     hook(request)\n\u001b[0;32m--> 966\u001b[0m response \u001b[39m=\u001b[39m \u001b[39mself\u001b[39;49m\u001b[39m.\u001b[39;49m_send_single_request(request)\n\u001b[1;32m    967\u001b[0m \u001b[39mtry\u001b[39;00m:\n",
      "File \u001b[0;32m~/.local/lib/python3.10/site-packages/httpx/_client.py:1002\u001b[0m, in \u001b[0;36mClient._send_single_request\u001b[0;34m(self, request)\u001b[0m\n\u001b[1;32m   1001\u001b[0m \u001b[39mwith\u001b[39;00m request_context(request\u001b[39m=\u001b[39mrequest):\n\u001b[0;32m-> 1002\u001b[0m     response \u001b[39m=\u001b[39m transport\u001b[39m.\u001b[39;49mhandle_request(request)\n\u001b[1;32m   1004\u001b[0m \u001b[39massert\u001b[39;00m \u001b[39misinstance\u001b[39m(response\u001b[39m.\u001b[39mstream, SyncByteStream)\n",
      "File \u001b[0;32m~/.local/lib/python3.10/site-packages/httpx/_transports/default.py:217\u001b[0m, in \u001b[0;36mHTTPTransport.handle_request\u001b[0;34m(self, request)\u001b[0m\n\u001b[1;32m    205\u001b[0m req \u001b[39m=\u001b[39m httpcore\u001b[39m.\u001b[39mRequest(\n\u001b[1;32m    206\u001b[0m     method\u001b[39m=\u001b[39mrequest\u001b[39m.\u001b[39mmethod,\n\u001b[1;32m    207\u001b[0m     url\u001b[39m=\u001b[39mhttpcore\u001b[39m.\u001b[39mURL(\n\u001b[0;32m   (...)\u001b[0m\n\u001b[1;32m    215\u001b[0m     extensions\u001b[39m=\u001b[39mrequest\u001b[39m.\u001b[39mextensions,\n\u001b[1;32m    216\u001b[0m )\n\u001b[0;32m--> 217\u001b[0m \u001b[39mwith\u001b[39;00m map_httpcore_exceptions():\n\u001b[1;32m    218\u001b[0m     resp \u001b[39m=\u001b[39m \u001b[39mself\u001b[39m\u001b[39m.\u001b[39m_pool\u001b[39m.\u001b[39mhandle_request(req)\n",
      "File \u001b[0;32m/usr/lib/python3.10/contextlib.py:153\u001b[0m, in \u001b[0;36m_GeneratorContextManager.__exit__\u001b[0;34m(self, typ, value, traceback)\u001b[0m\n\u001b[1;32m    152\u001b[0m \u001b[39mtry\u001b[39;00m:\n\u001b[0;32m--> 153\u001b[0m     \u001b[39mself\u001b[39;49m\u001b[39m.\u001b[39;49mgen\u001b[39m.\u001b[39;49mthrow(typ, value, traceback)\n\u001b[1;32m    154\u001b[0m \u001b[39mexcept\u001b[39;00m \u001b[39mStopIteration\u001b[39;00m \u001b[39mas\u001b[39;00m exc:\n\u001b[1;32m    155\u001b[0m     \u001b[39m# Suppress StopIteration *unless* it's the same exception that\u001b[39;00m\n\u001b[1;32m    156\u001b[0m     \u001b[39m# was passed to throw().  This prevents a StopIteration\u001b[39;00m\n\u001b[1;32m    157\u001b[0m     \u001b[39m# raised inside the \"with\" statement from being suppressed.\u001b[39;00m\n",
      "File \u001b[0;32m~/.local/lib/python3.10/site-packages/httpx/_transports/default.py:77\u001b[0m, in \u001b[0;36mmap_httpcore_exceptions\u001b[0;34m()\u001b[0m\n\u001b[1;32m     76\u001b[0m message \u001b[39m=\u001b[39m \u001b[39mstr\u001b[39m(exc)\n\u001b[0;32m---> 77\u001b[0m \u001b[39mraise\u001b[39;00m mapped_exc(message) \u001b[39mfrom\u001b[39;00m \u001b[39mexc\u001b[39;00m\n",
      "\u001b[0;31mReadTimeout\u001b[0m: timed out",
      "\nDuring handling of the above exception, another exception occurred:\n",
      "\u001b[0;31mResponseHandlingException\u001b[0m                 Traceback (most recent call last)",
      "\u001b[1;32m/home/skeptrune/git_projects/arguflow/royal-road-embeddings/group_testing_qa.ipynb Cell 14\u001b[0m line \u001b[0;36m2\n\u001b[1;32m     <a href='vscode-notebook-cell:/home/skeptrune/git_projects/arguflow/royal-road-embeddings/group_testing_qa.ipynb#X20sZmlsZQ%3D%3D?line=17'>18</a>\u001b[0m num_pg_docs \u001b[39m=\u001b[39m \u001b[39mint\u001b[39m(result[\u001b[39m0\u001b[39m])\n\u001b[1;32m     <a href='vscode-notebook-cell:/home/skeptrune/git_projects/arguflow/royal-road-embeddings/group_testing_qa.ipynb#X20sZmlsZQ%3D%3D?line=19'>20</a>\u001b[0m \u001b[39m# qdrant scroll to get all embeddings for the current story_id\u001b[39;00m\n\u001b[0;32m---> <a href='vscode-notebook-cell:/home/skeptrune/git_projects/arguflow/royal-road-embeddings/group_testing_qa.ipynb#X20sZmlsZQ%3D%3D?line=20'>21</a>\u001b[0m qdrant_points \u001b[39m=\u001b[39m svd_client\u001b[39m.\u001b[39;49mscroll(\n\u001b[1;32m     <a href='vscode-notebook-cell:/home/skeptrune/git_projects/arguflow/royal-road-embeddings/group_testing_qa.ipynb#X20sZmlsZQ%3D%3D?line=21'>22</a>\u001b[0m     collection_name\u001b[39m=\u001b[39;49m\u001b[39m\"\u001b[39;49m\u001b[39mdoc_embeddings\u001b[39;49m\u001b[39m\"\u001b[39;49m,\n\u001b[1;32m     <a href='vscode-notebook-cell:/home/skeptrune/git_projects/arguflow/royal-road-embeddings/group_testing_qa.ipynb#X20sZmlsZQ%3D%3D?line=22'>23</a>\u001b[0m     scroll_filter\u001b[39m=\u001b[39;49mFilter(\n\u001b[1;32m     <a href='vscode-notebook-cell:/home/skeptrune/git_projects/arguflow/royal-road-embeddings/group_testing_qa.ipynb#X20sZmlsZQ%3D%3D?line=23'>24</a>\u001b[0m         must\u001b[39m=\u001b[39;49m[\n\u001b[1;32m     <a href='vscode-notebook-cell:/home/skeptrune/git_projects/arguflow/royal-road-embeddings/group_testing_qa.ipynb#X20sZmlsZQ%3D%3D?line=24'>25</a>\u001b[0m             FieldCondition(\n\u001b[1;32m     <a href='vscode-notebook-cell:/home/skeptrune/git_projects/arguflow/royal-road-embeddings/group_testing_qa.ipynb#X20sZmlsZQ%3D%3D?line=25'>26</a>\u001b[0m                 key\u001b[39m=\u001b[39;49m\u001b[39m'\u001b[39;49m\u001b[39mstory_id\u001b[39;49m\u001b[39m'\u001b[39;49m,\n\u001b[1;32m     <a href='vscode-notebook-cell:/home/skeptrune/git_projects/arguflow/royal-road-embeddings/group_testing_qa.ipynb#X20sZmlsZQ%3D%3D?line=26'>27</a>\u001b[0m                 match\u001b[39m=\u001b[39;49mMatchValue(value\u001b[39m=\u001b[39;49m\u001b[39mstr\u001b[39;49m(row[\u001b[39m'\u001b[39;49m\u001b[39mstory_id\u001b[39;49m\u001b[39m'\u001b[39;49m]))\n\u001b[1;32m     <a href='vscode-notebook-cell:/home/skeptrune/git_projects/arguflow/royal-road-embeddings/group_testing_qa.ipynb#X20sZmlsZQ%3D%3D?line=27'>28</a>\u001b[0m             )\n\u001b[1;32m     <a href='vscode-notebook-cell:/home/skeptrune/git_projects/arguflow/royal-road-embeddings/group_testing_qa.ipynb#X20sZmlsZQ%3D%3D?line=28'>29</a>\u001b[0m         ]\n\u001b[1;32m     <a href='vscode-notebook-cell:/home/skeptrune/git_projects/arguflow/royal-road-embeddings/group_testing_qa.ipynb#X20sZmlsZQ%3D%3D?line=29'>30</a>\u001b[0m     ),\n\u001b[1;32m     <a href='vscode-notebook-cell:/home/skeptrune/git_projects/arguflow/royal-road-embeddings/group_testing_qa.ipynb#X20sZmlsZQ%3D%3D?line=30'>31</a>\u001b[0m     limit \u001b[39m=\u001b[39;49m num_pg_docs\n\u001b[1;32m     <a href='vscode-notebook-cell:/home/skeptrune/git_projects/arguflow/royal-road-embeddings/group_testing_qa.ipynb#X20sZmlsZQ%3D%3D?line=31'>32</a>\u001b[0m )\n\u001b[1;32m     <a href='vscode-notebook-cell:/home/skeptrune/git_projects/arguflow/royal-road-embeddings/group_testing_qa.ipynb#X20sZmlsZQ%3D%3D?line=32'>33</a>\u001b[0m num_qdrant_points \u001b[39m=\u001b[39m \u001b[39mlen\u001b[39m(qdrant_points[\u001b[39m0\u001b[39m])\n\u001b[1;32m     <a href='vscode-notebook-cell:/home/skeptrune/git_projects/arguflow/royal-road-embeddings/group_testing_qa.ipynb#X20sZmlsZQ%3D%3D?line=33'>34</a>\u001b[0m \u001b[39mif\u001b[39;00m num_qdrant_points \u001b[39m<\u001b[39m num_pg_docs:\n",
      "File \u001b[0;32m~/.local/lib/python3.10/site-packages/qdrant_client/qdrant_client.py:703\u001b[0m, in \u001b[0;36mQdrantClient.scroll\u001b[0;34m(self, collection_name, scroll_filter, limit, offset, with_payload, with_vectors, consistency, **kwargs)\u001b[0m\n\u001b[1;32m    668\u001b[0m \u001b[39m\u001b[39m\u001b[39m\"\"\"Scroll over all (matching) points in the collection.\u001b[39;00m\n\u001b[1;32m    669\u001b[0m \n\u001b[1;32m    670\u001b[0m \u001b[39mThis method provides a way to iterate over all stored points with some optional filtering condition.\u001b[39;00m\n\u001b[0;32m   (...)\u001b[0m\n\u001b[1;32m    699\u001b[0m \u001b[39m    If next page offset is `None` - there is no more points in the collection to scroll.\u001b[39;00m\n\u001b[1;32m    700\u001b[0m \u001b[39m\"\"\"\u001b[39;00m\n\u001b[1;32m    701\u001b[0m \u001b[39massert\u001b[39;00m \u001b[39mlen\u001b[39m(kwargs) \u001b[39m==\u001b[39m \u001b[39m0\u001b[39m, \u001b[39mf\u001b[39m\u001b[39m\"\u001b[39m\u001b[39mUnknown arguments: \u001b[39m\u001b[39m{\u001b[39;00m\u001b[39mlist\u001b[39m(kwargs\u001b[39m.\u001b[39mkeys())\u001b[39m}\u001b[39;00m\u001b[39m\"\u001b[39m\n\u001b[0;32m--> 703\u001b[0m \u001b[39mreturn\u001b[39;00m \u001b[39mself\u001b[39;49m\u001b[39m.\u001b[39;49m_client\u001b[39m.\u001b[39;49mscroll(\n\u001b[1;32m    704\u001b[0m     collection_name\u001b[39m=\u001b[39;49mcollection_name,\n\u001b[1;32m    705\u001b[0m     scroll_filter\u001b[39m=\u001b[39;49mscroll_filter,\n\u001b[1;32m    706\u001b[0m     limit\u001b[39m=\u001b[39;49mlimit,\n\u001b[1;32m    707\u001b[0m     offset\u001b[39m=\u001b[39;49moffset,\n\u001b[1;32m    708\u001b[0m     with_payload\u001b[39m=\u001b[39;49mwith_payload,\n\u001b[1;32m    709\u001b[0m     with_vectors\u001b[39m=\u001b[39;49mwith_vectors,\n\u001b[1;32m    710\u001b[0m     consistency\u001b[39m=\u001b[39;49mconsistency,\n\u001b[1;32m    711\u001b[0m     \u001b[39m*\u001b[39;49m\u001b[39m*\u001b[39;49mkwargs,\n\u001b[1;32m    712\u001b[0m )\n",
      "File \u001b[0;32m~/.local/lib/python3.10/site-packages/qdrant_client/qdrant_remote.py:948\u001b[0m, in \u001b[0;36mQdrantRemote.scroll\u001b[0;34m(self, collection_name, scroll_filter, limit, offset, with_payload, with_vectors, consistency, **kwargs)\u001b[0m\n\u001b[1;32m    943\u001b[0m \u001b[39mif\u001b[39;00m \u001b[39misinstance\u001b[39m(with_payload, grpc\u001b[39m.\u001b[39mWithPayloadSelector):\n\u001b[1;32m    944\u001b[0m     with_payload \u001b[39m=\u001b[39m GrpcToRest\u001b[39m.\u001b[39mconvert_with_payload_selector(with_payload)\n\u001b[1;32m    946\u001b[0m scroll_result: Optional[\n\u001b[1;32m    947\u001b[0m     models\u001b[39m.\u001b[39mScrollResult\n\u001b[0;32m--> 948\u001b[0m ] \u001b[39m=\u001b[39m \u001b[39mself\u001b[39;49m\u001b[39m.\u001b[39;49mopenapi_client\u001b[39m.\u001b[39;49mpoints_api\u001b[39m.\u001b[39;49mscroll_points(\n\u001b[1;32m    949\u001b[0m     collection_name\u001b[39m=\u001b[39;49mcollection_name,\n\u001b[1;32m    950\u001b[0m     consistency\u001b[39m=\u001b[39;49mconsistency,\n\u001b[1;32m    951\u001b[0m     scroll_request\u001b[39m=\u001b[39;49mmodels\u001b[39m.\u001b[39;49mScrollRequest(\n\u001b[1;32m    952\u001b[0m         \u001b[39mfilter\u001b[39;49m\u001b[39m=\u001b[39;49mscroll_filter,\n\u001b[1;32m    953\u001b[0m         limit\u001b[39m=\u001b[39;49mlimit,\n\u001b[1;32m    954\u001b[0m         offset\u001b[39m=\u001b[39;49moffset,\n\u001b[1;32m    955\u001b[0m         with_payload\u001b[39m=\u001b[39;49mwith_payload,\n\u001b[1;32m    956\u001b[0m         with_vector\u001b[39m=\u001b[39;49mwith_vectors,\n\u001b[1;32m    957\u001b[0m     ),\n\u001b[1;32m    958\u001b[0m )\u001b[39m.\u001b[39mresult\n\u001b[1;32m    959\u001b[0m \u001b[39massert\u001b[39;00m scroll_result \u001b[39mis\u001b[39;00m \u001b[39mnot\u001b[39;00m \u001b[39mNone\u001b[39;00m, \u001b[39m\"\u001b[39m\u001b[39mScroll points API returned None result\u001b[39m\u001b[39m\"\u001b[39m\n\u001b[1;32m    961\u001b[0m \u001b[39mreturn\u001b[39;00m scroll_result\u001b[39m.\u001b[39mpoints, scroll_result\u001b[39m.\u001b[39mnext_page_offset\n",
      "File \u001b[0;32m~/.local/lib/python3.10/site-packages/qdrant_client/http/api/points_api.py:1152\u001b[0m, in \u001b[0;36mSyncPointsApi.scroll_points\u001b[0;34m(self, collection_name, consistency, scroll_request)\u001b[0m\n\u001b[1;32m   1143\u001b[0m \u001b[39mdef\u001b[39;00m \u001b[39mscroll_points\u001b[39m(\n\u001b[1;32m   1144\u001b[0m     \u001b[39mself\u001b[39m,\n\u001b[1;32m   1145\u001b[0m     collection_name: \u001b[39mstr\u001b[39m,\n\u001b[1;32m   1146\u001b[0m     consistency: m\u001b[39m.\u001b[39mReadConsistency \u001b[39m=\u001b[39m \u001b[39mNone\u001b[39;00m,\n\u001b[1;32m   1147\u001b[0m     scroll_request: m\u001b[39m.\u001b[39mScrollRequest \u001b[39m=\u001b[39m \u001b[39mNone\u001b[39;00m,\n\u001b[1;32m   1148\u001b[0m ) \u001b[39m-\u001b[39m\u001b[39m>\u001b[39m m\u001b[39m.\u001b[39mInlineResponse20014:\n\u001b[1;32m   1149\u001b[0m \u001b[39m    \u001b[39m\u001b[39m\"\"\"\u001b[39;00m\n\u001b[1;32m   1150\u001b[0m \u001b[39m    Scroll request - paginate over all points which matches given filtering condition\u001b[39;00m\n\u001b[1;32m   1151\u001b[0m \u001b[39m    \"\"\"\u001b[39;00m\n\u001b[0;32m-> 1152\u001b[0m     \u001b[39mreturn\u001b[39;00m \u001b[39mself\u001b[39;49m\u001b[39m.\u001b[39;49m_build_for_scroll_points(\n\u001b[1;32m   1153\u001b[0m         collection_name\u001b[39m=\u001b[39;49mcollection_name,\n\u001b[1;32m   1154\u001b[0m         consistency\u001b[39m=\u001b[39;49mconsistency,\n\u001b[1;32m   1155\u001b[0m         scroll_request\u001b[39m=\u001b[39;49mscroll_request,\n\u001b[1;32m   1156\u001b[0m     )\n",
      "File \u001b[0;32m~/.local/lib/python3.10/site-packages/qdrant_client/http/api/points_api.py:443\u001b[0m, in \u001b[0;36m_PointsApi._build_for_scroll_points\u001b[0;34m(self, collection_name, consistency, scroll_request)\u001b[0m\n\u001b[1;32m    441\u001b[0m \u001b[39mif\u001b[39;00m \u001b[39m\"\u001b[39m\u001b[39mContent-Type\u001b[39m\u001b[39m\"\u001b[39m \u001b[39mnot\u001b[39;00m \u001b[39min\u001b[39;00m headers:\n\u001b[1;32m    442\u001b[0m     headers[\u001b[39m\"\u001b[39m\u001b[39mContent-Type\u001b[39m\u001b[39m\"\u001b[39m] \u001b[39m=\u001b[39m \u001b[39m\"\u001b[39m\u001b[39mapplication/json\u001b[39m\u001b[39m\"\u001b[39m\n\u001b[0;32m--> 443\u001b[0m \u001b[39mreturn\u001b[39;00m \u001b[39mself\u001b[39;49m\u001b[39m.\u001b[39;49mapi_client\u001b[39m.\u001b[39;49mrequest(\n\u001b[1;32m    444\u001b[0m     type_\u001b[39m=\u001b[39;49mm\u001b[39m.\u001b[39;49mInlineResponse20014,\n\u001b[1;32m    445\u001b[0m     method\u001b[39m=\u001b[39;49m\u001b[39m\"\u001b[39;49m\u001b[39mPOST\u001b[39;49m\u001b[39m\"\u001b[39;49m,\n\u001b[1;32m    446\u001b[0m     url\u001b[39m=\u001b[39;49m\u001b[39m\"\u001b[39;49m\u001b[39m/collections/\u001b[39;49m\u001b[39m{collection_name}\u001b[39;49;00m\u001b[39m/points/scroll\u001b[39;49m\u001b[39m\"\u001b[39;49m,\n\u001b[1;32m    447\u001b[0m     headers\u001b[39m=\u001b[39;49mheaders \u001b[39mif\u001b[39;49;00m headers \u001b[39melse\u001b[39;49;00m \u001b[39mNone\u001b[39;49;00m,\n\u001b[1;32m    448\u001b[0m     path_params\u001b[39m=\u001b[39;49mpath_params,\n\u001b[1;32m    449\u001b[0m     params\u001b[39m=\u001b[39;49mquery_params,\n\u001b[1;32m    450\u001b[0m     data\u001b[39m=\u001b[39;49mbody,\n\u001b[1;32m    451\u001b[0m )\n",
      "File \u001b[0;32m~/.local/lib/python3.10/site-packages/qdrant_client/http/api_client.py:74\u001b[0m, in \u001b[0;36mApiClient.request\u001b[0;34m(self, type_, method, url, path_params, **kwargs)\u001b[0m\n\u001b[1;32m     72\u001b[0m url \u001b[39m=\u001b[39m (\u001b[39mself\u001b[39m\u001b[39m.\u001b[39mhost \u001b[39mor\u001b[39;00m \u001b[39m\"\u001b[39m\u001b[39m\"\u001b[39m) \u001b[39m+\u001b[39m url\u001b[39m.\u001b[39mformat(\u001b[39m*\u001b[39m\u001b[39m*\u001b[39mpath_params)\n\u001b[1;32m     73\u001b[0m request \u001b[39m=\u001b[39m \u001b[39mself\u001b[39m\u001b[39m.\u001b[39m_client\u001b[39m.\u001b[39mbuild_request(method, url, \u001b[39m*\u001b[39m\u001b[39m*\u001b[39mkwargs)\n\u001b[0;32m---> 74\u001b[0m \u001b[39mreturn\u001b[39;00m \u001b[39mself\u001b[39;49m\u001b[39m.\u001b[39;49msend(request, type_)\n",
      "File \u001b[0;32m~/.local/lib/python3.10/site-packages/qdrant_client/http/api_client.py:91\u001b[0m, in \u001b[0;36mApiClient.send\u001b[0;34m(self, request, type_)\u001b[0m\n\u001b[1;32m     90\u001b[0m \u001b[39mdef\u001b[39;00m \u001b[39msend\u001b[39m(\u001b[39mself\u001b[39m, request: Request, type_: Type[T]) \u001b[39m-\u001b[39m\u001b[39m>\u001b[39m T:\n\u001b[0;32m---> 91\u001b[0m     response \u001b[39m=\u001b[39m \u001b[39mself\u001b[39;49m\u001b[39m.\u001b[39;49mmiddleware(request, \u001b[39mself\u001b[39;49m\u001b[39m.\u001b[39;49msend_inner)\n\u001b[1;32m     92\u001b[0m     \u001b[39mif\u001b[39;00m response\u001b[39m.\u001b[39mstatus_code \u001b[39min\u001b[39;00m [\u001b[39m200\u001b[39m, \u001b[39m201\u001b[39m]:\n\u001b[1;32m     93\u001b[0m         \u001b[39mtry\u001b[39;00m:\n",
      "File \u001b[0;32m~/.local/lib/python3.10/site-packages/qdrant_client/http/api_client.py:200\u001b[0m, in \u001b[0;36mBaseMiddleware.__call__\u001b[0;34m(self, request, call_next)\u001b[0m\n\u001b[1;32m    199\u001b[0m \u001b[39mdef\u001b[39;00m \u001b[39m__call__\u001b[39m(\u001b[39mself\u001b[39m, request: Request, call_next: Send) \u001b[39m-\u001b[39m\u001b[39m>\u001b[39m Response:\n\u001b[0;32m--> 200\u001b[0m     \u001b[39mreturn\u001b[39;00m call_next(request)\n",
      "File \u001b[0;32m~/.local/lib/python3.10/site-packages/qdrant_client/http/api_client.py:103\u001b[0m, in \u001b[0;36mApiClient.send_inner\u001b[0;34m(self, request)\u001b[0m\n\u001b[1;32m    101\u001b[0m     response \u001b[39m=\u001b[39m \u001b[39mself\u001b[39m\u001b[39m.\u001b[39m_client\u001b[39m.\u001b[39msend(request)\n\u001b[1;32m    102\u001b[0m \u001b[39mexcept\u001b[39;00m \u001b[39mException\u001b[39;00m \u001b[39mas\u001b[39;00m e:\n\u001b[0;32m--> 103\u001b[0m     \u001b[39mraise\u001b[39;00m ResponseHandlingException(e)\n\u001b[1;32m    104\u001b[0m \u001b[39mreturn\u001b[39;00m response\n",
      "\u001b[0;31mResponseHandlingException\u001b[0m: timed out"
     ]
    }
   ],
   "source": [
    "# Establish a connection to the PostgreSQL database\n",
    "conn = psycopg2.connect(db_url)\n",
    "\n",
    "# Create a cursor\n",
    "cursor = conn.cursor()\n",
    "\n",
    "output_file_path = \"erred_story_ids.csv\"\n",
    "\n",
    "with open(output_file_path, 'w', newline='') as csv_file:\n",
    "    csv_writer = csv.writer(csv_file)\n",
    "    csv_writer.writerow([\"story_id\"])\n",
    "\n",
    "    for index, row in distinct_story_ids.iterrows():\n",
    "        # SQL query to select the count of rows for the current story_id\n",
    "        query = f\"SELECT COUNT(*) FROM doc_embeddings WHERE story_id = {row['story_id']}\"\n",
    "        cursor.execute(query)\n",
    "        result = cursor.fetchone()\n",
    "        num_pg_docs = int(result[0])\n",
    "\n",
    "        # qdrant scroll to get all embeddings for the current story_id\n",
    "        qdrant_points = svd_client.scroll(\n",
    "            collection_name=\"doc_embeddings\",\n",
    "            scroll_filter=Filter(\n",
    "                must=[\n",
    "                    FieldCondition(\n",
    "                        key='story_id',\n",
    "                        match=MatchValue(value=str(row['story_id']))\n",
    "                    )\n",
    "                ]\n",
    "            ),\n",
    "            limit = num_pg_docs\n",
    "        )\n",
    "        num_qdrant_points = len(qdrant_points[0])\n",
    "        if num_qdrant_points < num_pg_docs:\n",
    "            csv_writer.writerow([row['story_id']])\n",
    "            print(row['story_id'], num_pg_docs, num_qdrant_points)\n",
    "\n",
    "cursor.close()\n",
    "conn.close()"
   ]
  }
 ],
 "metadata": {
  "kernelspec": {
   "display_name": "Python 3",
   "language": "python",
   "name": "python3"
  },
  "language_info": {
   "codemirror_mode": {
    "name": "ipython",
    "version": 3
   },
   "file_extension": ".py",
   "mimetype": "text/x-python",
   "name": "python",
   "nbconvert_exporter": "python",
   "pygments_lexer": "ipython3",
   "version": "3.10.12"
  }
 },
 "nbformat": 4,
 "nbformat_minor": 2
}
