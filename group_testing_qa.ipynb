{
 "cells": [
  {
   "cell_type": "code",
   "execution_count": 1,
   "metadata": {},
   "outputs": [],
   "source": [
    "import requests\n",
    "import os\n",
    "from dotenv import load_dotenv"
   ]
  },
  {
   "cell_type": "code",
   "execution_count": 2,
   "metadata": {},
   "outputs": [],
   "source": [
    "load_dotenv()\n",
    "\n",
    "api_key = os.environ.get('API_KEY')\n",
    "api_url = os.environ.get('API_URL')"
   ]
  },
  {
   "cell_type": "code",
   "execution_count": 3,
   "metadata": {},
   "outputs": [],
   "source": [
    "def send_search_request(query_str):\n",
    "    request_body = {\n",
    "        \"query\": query_str,\n",
    "        \"page\": 1\n",
    "    }\n",
    "\n",
    "    headers = {\"Content-Type\": \"application/json\", \"Authorization\": api_key}\n",
    "    response = requests.post(api_url + \"/search\", json=request_body, headers=headers)\n",
    "    return response.json()\n",
    "\n",
    "# results = send_search_request('Software engineer programmer starts to realize the magic system is akin to programming')\n",
    "# for result in results:\n",
    "#     index = result['DocEmbedding'][\"index\"]\n",
    "#     story_id = result['DocEmbedding'][\"story_id\"]\n",
    "#     link = f'https://www.royalroad.com/fiction/{story_id}'\n",
    "#     print(link, index)"
   ]
  },
  {
   "cell_type": "code",
   "execution_count": 4,
   "metadata": {},
   "outputs": [],
   "source": [
    "def send_search_request_document_group(query_str, group_size):\n",
    "    request_body = {\n",
    "        \"doc_group_size\": group_size,\n",
    "        \"query\": query_str,\n",
    "        \"page\": 1\n",
    "    }\n",
    "\n",
    "    headers = {\"Content-Type\": \"application/json\", \"Authorization\": api_key}\n",
    "    response = requests.post(api_url + \"/search\", json=request_body, headers=headers)\n",
    "    return response.json()"
   ]
  },
  {
   "cell_type": "code",
   "execution_count": 5,
   "metadata": {},
   "outputs": [],
   "source": [
    "def create_document_group(group_size):\n",
    "    request_body = {\n",
    "        \"doc_group_size\": group_size\n",
    "    }\n",
    "\n",
    "    headers = {\"Content-Type\": \"application/json\", \"Authorization\": api_key}\n",
    "    response = requests.post(api_url + \"/document_group\", json=request_body, headers=headers)\n",
    "    return response.status_code"
   ]
  },
  {
   "cell_type": "code",
   "execution_count": 6,
   "metadata": {},
   "outputs": [],
   "source": [
    "# create_document_group(50)"
   ]
  },
  {
   "cell_type": "code",
   "execution_count": 7,
   "metadata": {},
   "outputs": [],
   "source": [
    "def index_document_group(story_id, group_size):\n",
    "    request_body = {\n",
    "        \"story_id\": story_id,\n",
    "        \"doc_group_size\": group_size\n",
    "    }\n",
    "\n",
    "    headers = {\"Content-Type\": \"application/json\", \"Authorization\": api_key}\n",
    "    response = requests.put(api_url + \"/document_group\", json=request_body, headers=headers)\n",
    "    return response.status_code"
   ]
  },
  {
   "cell_type": "code",
   "execution_count": 11,
   "metadata": {},
   "outputs": [
    {
     "data": {
      "text/plain": [
       "204"
      ]
     },
     "execution_count": 11,
     "metadata": {},
     "output_type": "execute_result"
    }
   ],
   "source": [
    "index_document_group(11209, 50)"
   ]
  },
  {
   "cell_type": "code",
   "execution_count": 38,
   "metadata": {},
   "outputs": [
    {
     "name": "stdout",
     "output_type": "stream",
     "text": [
      "https://www.royalroad.com/fiction/13143 0\n",
      "https://www.royalroad.com/fiction/26163 0\n",
      "https://www.royalroad.com/fiction/28995 0\n",
      "https://www.royalroad.com/fiction/24 0\n",
      "https://www.royalroad.com/fiction/20177 0\n",
      "https://www.royalroad.com/fiction/23074 0\n",
      "https://www.royalroad.com/fiction/16878 0\n"
     ]
    }
   ],
   "source": [
    "# results = send_search_request_document_group('Software engineer programmer starts to realize the magic system is akin to programming', 50)\n",
    "\n",
    "# for result in results:\n",
    "#     story_id = result['DocGroupEmbedding'][\"story_id\"]\n",
    "#     index = result['DocGroupEmbedding'][\"index\"]\n",
    "#     link = f'https://www.royalroad.com/fiction/{story_id}'\n",
    "#     print(link, index)"
   ]
  }
 ],
 "metadata": {
  "kernelspec": {
   "display_name": "Python 3",
   "language": "python",
   "name": "python3"
  },
  "language_info": {
   "codemirror_mode": {
    "name": "ipython",
    "version": 3
   },
   "file_extension": ".py",
   "mimetype": "text/x-python",
   "name": "python",
   "nbconvert_exporter": "python",
   "pygments_lexer": "ipython3",
   "version": "3.10.12"
  }
 },
 "nbformat": 4,
 "nbformat_minor": 2
}
