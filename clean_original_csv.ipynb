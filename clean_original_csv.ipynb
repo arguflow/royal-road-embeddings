{
 "cells": [
  {
   "cell_type": "code",
   "execution_count": 2,
   "metadata": {},
   "outputs": [
    {
     "data": {
      "text/plain": [
       "131072"
      ]
     },
     "execution_count": 2,
     "metadata": {},
     "output_type": "execute_result"
    }
   ],
   "source": [
    "import pandas as pd\n",
    "import csv\n",
    "import math\n",
    "import clevercsv\n",
    "\n",
    "csv.field_size_limit(10**6*10)"
   ]
  },
  {
   "cell_type": "code",
   "execution_count": 1,
   "metadata": {},
   "outputs": [
    {
     "name": "stdout",
     "output_type": "stream",
     "text": [
      "Data has been exported to doc_embeddings_combined_v2.csv\n"
     ]
    }
   ],
   "source": [
    "import psycopg2\n",
    "import csv\n",
    "\n",
    "# Replace with your PostgreSQL connection URL\n",
    "db_url = \"\"\n",
    "\n",
    "# SQL query to select the columns you want\n",
    "query = \"SELECT index, story_id FROM doc_embeddings\"\n",
    "\n",
    "# File path for the single CSV file\n",
    "output_file_path = \"doc_embeddings_combined_v2.csv\"\n",
    "\n",
    "# Batch size\n",
    "batch_size = 10000\n",
    "\n",
    "# Establish a connection to the PostgreSQL database\n",
    "conn = psycopg2.connect(db_url)\n",
    "\n",
    "# Create a cursor\n",
    "cursor = conn.cursor()\n",
    "\n",
    "# Execute the query\n",
    "cursor.execute(query)\n",
    "\n",
    "# Open the CSV file for writing\n",
    "with open(output_file_path, 'w', newline='') as csv_file:\n",
    "    csv_writer = csv.writer(csv_file)\n",
    "\n",
    "    # Write header\n",
    "    csv_writer.writerow([\"index\", \"story_id\"])\n",
    "\n",
    "    batch_number = 0\n",
    "    while True:\n",
    "        results = cursor.fetchmany(batch_size)\n",
    "        if not results:\n",
    "            break\n",
    "\n",
    "        # Write data for the current batch\n",
    "        csv_writer.writerows(results)\n",
    "\n",
    "        batch_number += 1\n",
    "\n",
    "# Close the cursor and the connection\n",
    "cursor.close()\n",
    "conn.close()\n",
    "\n",
    "print(f\"Data has been exported to {output_file_path}\")"
   ]
  },
  {
   "cell_type": "code",
   "execution_count": 3,
   "metadata": {},
   "outputs": [],
   "source": [
    "already_loaded_rows = clevercsv.read_dataframe('./doc_embeddings_combined_v2.csv', num_chars=1000000)"
   ]
  },
  {
   "cell_type": "code",
   "execution_count": 4,
   "metadata": {},
   "outputs": [],
   "source": [
    "original_rows = pd.read_pickle('./cleaned_normalized_df_no_grouping.pkl')"
   ]
  },
  {
   "cell_type": "code",
   "execution_count": 5,
   "metadata": {},
   "outputs": [
    {
     "data": {
      "text/html": [
       "<div>\n",
       "<style scoped>\n",
       "    .dataframe tbody tr th:only-of-type {\n",
       "        vertical-align: middle;\n",
       "    }\n",
       "\n",
       "    .dataframe tbody tr th {\n",
       "        vertical-align: top;\n",
       "    }\n",
       "\n",
       "    .dataframe thead th {\n",
       "        text-align: right;\n",
       "    }\n",
       "</style>\n",
       "<table border=\"1\" class=\"dataframe\">\n",
       "  <thead>\n",
       "    <tr style=\"text-align: right;\">\n",
       "      <th></th>\n",
       "      <th>FictionId</th>\n",
       "      <th>content</th>\n",
       "      <th>Order</th>\n",
       "    </tr>\n",
       "  </thead>\n",
       "  <tbody>\n",
       "    <tr>\n",
       "      <th>0</th>\n",
       "      <td>24</td>\n",
       "      <td>&lt;p&gt;Lorem ipsum dolor sit amet, consectetur adi...</td>\n",
       "      <td>1</td>\n",
       "    </tr>\n",
       "    <tr>\n",
       "      <th>1</th>\n",
       "      <td>24</td>\n",
       "      <td>&lt;div&gt;\\n&lt;p&gt;&lt;strong&gt;Lorem Ipsum&lt;/strong&gt; is simp...</td>\n",
       "      <td>3</td>\n",
       "    </tr>\n",
       "    <tr>\n",
       "      <th>2</th>\n",
       "      <td>24</td>\n",
       "      <td>&lt;p&gt;Go away. Let me test stuff in peace!&lt;/p&gt;\\n&lt;...</td>\n",
       "      <td>2</td>\n",
       "    </tr>\n",
       "    <tr>\n",
       "      <th>3</th>\n",
       "      <td>24</td>\n",
       "      <td>&lt;table style=\"border-collapse: collapse; width...</td>\n",
       "      <td>4</td>\n",
       "    </tr>\n",
       "    <tr>\n",
       "      <th>4</th>\n",
       "      <td>24</td>\n",
       "      <td>&lt;p&gt;Nullam quis ante. Donec vitae orci sed dolo...</td>\n",
       "      <td>5</td>\n",
       "    </tr>\n",
       "    <tr>\n",
       "      <th>...</th>\n",
       "      <td>...</td>\n",
       "      <td>...</td>\n",
       "      <td>...</td>\n",
       "    </tr>\n",
       "    <tr>\n",
       "      <th>1243341</th>\n",
       "      <td>9997</td>\n",
       "      <td>&lt;p&gt;Have you ever wonder, what would an apocaly...</td>\n",
       "      <td>1</td>\n",
       "    </tr>\n",
       "    <tr>\n",
       "      <th>1243342</th>\n",
       "      <td>9997</td>\n",
       "      <td>&lt;p&gt;In a space full of nothingness, where there...</td>\n",
       "      <td>2</td>\n",
       "    </tr>\n",
       "    <tr>\n",
       "      <th>1243343</th>\n",
       "      <td>9997</td>\n",
       "      <td>&lt;p&gt;Calm, almost tranquil atmosphere. That is V...</td>\n",
       "      <td>3</td>\n",
       "    </tr>\n",
       "    <tr>\n",
       "      <th>1243344</th>\n",
       "      <td>9998</td>\n",
       "      <td>&lt;p&gt;“It has been a long time since one of your ...</td>\n",
       "      <td>1</td>\n",
       "    </tr>\n",
       "    <tr>\n",
       "      <th>1243345</th>\n",
       "      <td>9999</td>\n",
       "      <td>&lt;p&gt;&lt;span style=\"font-size: 1.1em\"&gt;In a world &amp;...</td>\n",
       "      <td>1</td>\n",
       "    </tr>\n",
       "  </tbody>\n",
       "</table>\n",
       "<p>1243346 rows × 3 columns</p>\n",
       "</div>"
      ],
      "text/plain": [
       "         FictionId                                            content  Order\n",
       "0               24  <p>Lorem ipsum dolor sit amet, consectetur adi...      1\n",
       "1               24  <div>\\n<p><strong>Lorem Ipsum</strong> is simp...      3\n",
       "2               24  <p>Go away. Let me test stuff in peace!</p>\\n<...      2\n",
       "3               24  <table style=\"border-collapse: collapse; width...      4\n",
       "4               24  <p>Nullam quis ante. Donec vitae orci sed dolo...      5\n",
       "...            ...                                                ...    ...\n",
       "1243341       9997  <p>Have you ever wonder, what would an apocaly...      1\n",
       "1243342       9997  <p>In a space full of nothingness, where there...      2\n",
       "1243343       9997  <p>Calm, almost tranquil atmosphere. That is V...      3\n",
       "1243344       9998  <p>“It has been a long time since one of your ...      1\n",
       "1243345       9999  <p><span style=\"font-size: 1.1em\">In a world &...      1\n",
       "\n",
       "[1243346 rows x 3 columns]"
      ]
     },
     "execution_count": 5,
     "metadata": {},
     "output_type": "execute_result"
    }
   ],
   "source": [
    "original_rows['FictionId'] = original_rows['FictionId'].astype(int)\n",
    "original_rows['Order'] = original_rows['Order'].astype(int)\n",
    "\n",
    "original_rows.drop(columns=['ChapterId'], inplace=True)\n",
    "\n",
    "original_rows"
   ]
  },
  {
   "cell_type": "code",
   "execution_count": 6,
   "metadata": {},
   "outputs": [],
   "source": [
    "already_loaded_rows.rename(columns={'index': 'Order', 'story_id': 'FictionId'}, inplace=True)\n",
    "already_loaded_rows.loc[:, 'FictionId'] = already_loaded_rows['FictionId'].astype(int)\n",
    "already_loaded_rows.loc[:, 'Order'] = already_loaded_rows['Order'].astype(int)"
   ]
  },
  {
   "cell_type": "code",
   "execution_count": 7,
   "metadata": {},
   "outputs": [],
   "source": [
    "merged = original_rows.merge(already_loaded_rows, on=['FictionId', 'Order'], how='left', indicator=True)\n",
    "\n",
    "# Filter for rows that are only in original_rows\n",
    "original_rows = merged[merged['_merge'] == 'left_only'].drop(columns=['_merge'])"
   ]
  },
  {
   "cell_type": "code",
   "execution_count": 8,
   "metadata": {},
   "outputs": [
    {
     "data": {
      "text/html": [
       "<div>\n",
       "<style scoped>\n",
       "    .dataframe tbody tr th:only-of-type {\n",
       "        vertical-align: middle;\n",
       "    }\n",
       "\n",
       "    .dataframe tbody tr th {\n",
       "        vertical-align: top;\n",
       "    }\n",
       "\n",
       "    .dataframe thead th {\n",
       "        text-align: right;\n",
       "    }\n",
       "</style>\n",
       "<table border=\"1\" class=\"dataframe\">\n",
       "  <thead>\n",
       "    <tr style=\"text-align: right;\">\n",
       "      <th></th>\n",
       "      <th>FictionId</th>\n",
       "      <th>content</th>\n",
       "      <th>Order</th>\n",
       "    </tr>\n",
       "  </thead>\n",
       "  <tbody>\n",
       "    <tr>\n",
       "      <th>3</th>\n",
       "      <td>24</td>\n",
       "      <td>&lt;table style=\"border-collapse: collapse; width...</td>\n",
       "      <td>4</td>\n",
       "    </tr>\n",
       "    <tr>\n",
       "      <th>354</th>\n",
       "      <td>1157</td>\n",
       "      <td>&lt;p&gt;================================&lt;br&gt; Chapte...</td>\n",
       "      <td>140</td>\n",
       "    </tr>\n",
       "    <tr>\n",
       "      <th>1172</th>\n",
       "      <td>1520</td>\n",
       "      <td>&lt;p&gt;&lt;span style=\"font-weight: bold\"&gt;Character S...</td>\n",
       "      <td>6</td>\n",
       "    </tr>\n",
       "    <tr>\n",
       "      <th>2178</th>\n",
       "      <td>2666</td>\n",
       "      <td>&lt;p style=\"text-align: justify\"&gt;&lt;span style=\"te...</td>\n",
       "      <td>41</td>\n",
       "    </tr>\n",
       "    <tr>\n",
       "      <th>2201</th>\n",
       "      <td>2666</td>\n",
       "      <td>&lt;p style=\"text-align: justify\"&gt;&lt;strong&gt;&lt;u&gt;Chap...</td>\n",
       "      <td>65</td>\n",
       "    </tr>\n",
       "    <tr>\n",
       "      <th>...</th>\n",
       "      <td>...</td>\n",
       "      <td>...</td>\n",
       "      <td>...</td>\n",
       "    </tr>\n",
       "    <tr>\n",
       "      <th>1239475</th>\n",
       "      <td>9587</td>\n",
       "      <td>&lt;p style=\"text-align: left\"&gt;&amp;nbsp; &amp;nbsp; &amp;nbs...</td>\n",
       "      <td>1</td>\n",
       "    </tr>\n",
       "    <tr>\n",
       "      <th>1239854</th>\n",
       "      <td>9624</td>\n",
       "      <td>&lt;p style=\"margin-bottom: 0in; line-height: 150...</td>\n",
       "      <td>3</td>\n",
       "    </tr>\n",
       "    <tr>\n",
       "      <th>1242282</th>\n",
       "      <td>99</td>\n",
       "      <td>&lt;div style=\"text-align: center;\"&gt;&lt;span style=\"...</td>\n",
       "      <td>61</td>\n",
       "    </tr>\n",
       "    <tr>\n",
       "      <th>1242283</th>\n",
       "      <td>99</td>\n",
       "      <td>&lt;div style=\"text-align: center;\"&gt;&lt;span style=\"...</td>\n",
       "      <td>62</td>\n",
       "    </tr>\n",
       "    <tr>\n",
       "      <th>1242284</th>\n",
       "      <td>99</td>\n",
       "      <td>&lt;div style=\"text-align: center;\"&gt;&lt;span style=\"...</td>\n",
       "      <td>63</td>\n",
       "    </tr>\n",
       "  </tbody>\n",
       "</table>\n",
       "<p>4081 rows × 3 columns</p>\n",
       "</div>"
      ],
      "text/plain": [
       "         FictionId                                            content  Order\n",
       "3               24  <table style=\"border-collapse: collapse; width...      4\n",
       "354           1157  <p>================================<br> Chapte...    140\n",
       "1172          1520  <p><span style=\"font-weight: bold\">Character S...      6\n",
       "2178          2666  <p style=\"text-align: justify\"><span style=\"te...     41\n",
       "2201          2666  <p style=\"text-align: justify\"><strong><u>Chap...     65\n",
       "...            ...                                                ...    ...\n",
       "1239475       9587  <p style=\"text-align: left\">&nbsp; &nbsp; &nbs...      1\n",
       "1239854       9624  <p style=\"margin-bottom: 0in; line-height: 150...      3\n",
       "1242282         99  <div style=\"text-align: center;\"><span style=\"...     61\n",
       "1242283         99  <div style=\"text-align: center;\"><span style=\"...     62\n",
       "1242284         99  <div style=\"text-align: center;\"><span style=\"...     63\n",
       "\n",
       "[4081 rows x 3 columns]"
      ]
     },
     "execution_count": 8,
     "metadata": {},
     "output_type": "execute_result"
    }
   ],
   "source": [
    "original_rows"
   ]
  },
  {
   "cell_type": "code",
   "execution_count": 9,
   "metadata": {},
   "outputs": [],
   "source": [
    "original_rows.to_pickle('./cleaned_normalized_df_no_grouping_v2.pkl')"
   ]
  },
  {
   "cell_type": "code",
   "execution_count": 13,
   "metadata": {},
   "outputs": [],
   "source": [
    "original_chunks = []\n",
    "\n",
    "num_rows = len(original_rows)\n",
    "chunk_size = math.ceil(num_rows / 6)\n",
    "\n",
    "# break original_rows into 6 pieces\n",
    "for i in range(1, 7):\n",
    "    chunk_df = original_rows.iloc[(i-1)*chunk_size:i*chunk_size]\n",
    "    original_chunks.append(chunk_df)"
   ]
  },
  {
   "cell_type": "code",
   "execution_count": 14,
   "metadata": {},
   "outputs": [],
   "source": [
    "# save each chunk to a pickle in ./deduped_chunks\n",
    "for i in range(1, 7):\n",
    "    original_chunks[i-1].to_pickle(f'./deduped_chunks/original_rows_{i}.pkl')"
   ]
  }
 ],
 "metadata": {
  "kernelspec": {
   "display_name": "Python 3",
   "language": "python",
   "name": "python3"
  },
  "language_info": {
   "codemirror_mode": {
    "name": "ipython",
    "version": 3
   },
   "file_extension": ".py",
   "mimetype": "text/x-python",
   "name": "python",
   "nbconvert_exporter": "python",
   "pygments_lexer": "ipython3",
   "version": "3.10.12"
  }
 },
 "nbformat": 4,
 "nbformat_minor": 2
}
